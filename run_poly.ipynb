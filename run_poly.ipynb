{
 "cells": [
  {
   "cell_type": "code",
   "execution_count": 4,
   "id": "fee6f6b0-1331-4f6b-a386-2e00d9036945",
   "metadata": {},
   "outputs": [
    {
     "name": "stdout",
     "output_type": "stream",
     "text": [
      "The autoreload extension is already loaded. To reload it, use:\n",
      "  %reload_ext autoreload\n"
     ]
    }
   ],
   "source": [
    "import numpy as np\n",
    "from helpers import *\n",
    "from implementations import *\n",
    "from data_processing_poly import *\n",
    "from hyperparams import *\n",
    "# from classification import *\n",
    "%load_ext autoreload\n",
    "%autoreload 2"
   ]
  },
  {
   "cell_type": "code",
   "execution_count": 2,
   "id": "218600e2-5d34-4bc0-ad81-322fd83a5730",
   "metadata": {},
   "outputs": [],
   "source": [
    "# loading train data (takes 10 secs, avoid spamming cell)\n",
    "yb, input_data, ids = load_csv_data(\"train.csv\")\n",
    "dimensions = np.shape(input_data)\n",
    "N = dimensions[0]\n",
    "P = dimensions[1]\n",
    "yb = np.reshape(yb,[N,1])\n",
    "yb[yb==-1] = 0\n",
    "\n",
    "#voir si fait du sens de prendre le log apres std ??\n"
   ]
  },
  {
   "cell_type": "code",
   "execution_count": 3,
   "id": "705eb40d",
   "metadata": {},
   "outputs": [
    {
     "name": "stdout",
     "output_type": "stream",
     "text": [
      "[0.81448779 0.9561932  1.22461282 ... 0.78635286 1.18742128 1.20429239]\n"
     ]
    }
   ],
   "source": [
    "tx_rem = standardize_data_mean(input_data)\n",
    "y_new = yb\n",
    "print(np.std(tx_rem,1))"
   ]
  },
  {
   "cell_type": "code",
   "execution_count": null,
   "id": "4b0f61a1",
   "metadata": {},
   "outputs": [],
   "source": [
    "\"\"\"#standardisation avec racine cube pour les colones jolies comme ca : \n",
    "col_cube_root =[4,8,13,16,26]\n",
    "for x in col_cube_root :\n",
    "     c = tx_rem[:,x]\n",
    "     mean = np.mean(c, axis=0)\n",
    "     std_dev = np.std(c, axis=0)\n",
    "     c = (c-mean) / std_dev\n",
    "     c= c**(1/3)\n",
    "\n",
    "     \n",
    "    \n",
    "     plt.hist(c, bins=40)\n",
    "     plt.xlabel('X label' + np.str(x))\n",
    "     plt.ylabel('Y label')\n",
    "     plt.show()\"\"\""
   ]
  },
  {
   "cell_type": "code",
   "execution_count": null,
   "id": "6a0c56cb",
   "metadata": {},
   "outputs": [],
   "source": [
    "\"\"\"#Test Box-Cox : permet de transformer skewed data en normal (normalement)\n",
    "lambdas = [-1,-0.5,0.5,1]\n",
    "for lambda1 in lambdas : \n",
    "    for lambda2 in lambdas : \n",
    "        c = tx_rem[:,1]\n",
    "        #mean = np.mean(c, axis=0)\n",
    "        #std_dev = np.std(c, axis=0)\n",
    "        #tx_rem[:,1] = (c -mean*np.ones(np.shape(c))) / std_dev\n",
    "        #x_box = ((c+lambda2)**lambda1 - 1)/lambda1\n",
    "        x_box= 1/c\n",
    "        plt.hist(x_box, bins=40)\n",
    "        plt.xlabel('X label' + 'lambda1 = '+ np.str(lambda1) + 'lambda2='+ np.str(lambda2))\n",
    "        plt.ylabel('Y label')\n",
    "        plt.show()\"\"\""
   ]
  },
  {
   "cell_type": "code",
   "execution_count": null,
   "id": "85bfe744",
   "metadata": {},
   "outputs": [],
   "source": [
    "columns_to_expand = [0,1,2]#[0,1,2,3,5,6,7,8,9,10,11,12,13,14,16,17,19,22,24,25,26,27,28]\n",
    "degrees = [2,3,4]\n",
    "initial_w = np.ones([tx_rem.shape[1],1])\n",
    "lambdas = np.logspace(-4, 0, 20)\n",
    "max_iters = 30\n",
    "gamma = 0.8\n",
    "x_rem = phi_optimized(y_new,tx_rem,degrees,P, 7, initial_w, lambdas, gamma,max_iters,columns_to_expand)\n"
   ]
  },
  {
   "cell_type": "code",
   "execution_count": null,
   "id": "e526e5be",
   "metadata": {},
   "outputs": [],
   "source": [
    "\n",
    "print(tx_rem.shape)"
   ]
  },
  {
   "cell_type": "code",
   "execution_count": 4,
   "id": "dfdb9fd9",
   "metadata": {},
   "outputs": [
    {
     "name": "stderr",
     "output_type": "stream",
     "text": [
      "/Users/toye/Desktop/ML_project1-master-2/implementations.py:229: RuntimeWarning: overflow encountered in exp\n",
      "  return 1/(1+np.exp(-t))\n",
      "/Users/toye/Desktop/ML_project1-master-2/implementations.py:246: RuntimeWarning: divide by zero encountered in log\n",
      "  loss = -(1/len(y)) * ( y.T @ np.log(sigmoid(tx@w)) + (1-y).T @ np.log(1-sigmoid(tx@w)) )\n",
      "/Users/toye/Desktop/ML_project1-master-2/implementations.py:246: RuntimeWarning: invalid value encountered in matmul\n",
      "  loss = -(1/len(y)) * ( y.T @ np.log(sigmoid(tx@w)) + (1-y).T @ np.log(1-sigmoid(tx@w)) )\n"
     ]
    },
    {
     "name": "stdout",
     "output_type": "stream",
     "text": [
      "9750000\n"
     ]
    }
   ],
   "source": [
    "# Construct the matrix with the polynomial expansion for each column\n",
    "size_x_tr = tx_rem.shape[0]\n",
    "gamma = 0.4 #Quite low to avoid NaN\n",
    "lambdas = np.logspace(-2, -1.8, 20) #the lambda tested for the logistic regression, for each lambda we test each degree\n",
    "initial_w = np.ones([size_x_tr,1])\n",
    "max_iters = 20\n",
    "degrees_tested = [1,2,3] #the degrees tested for the polynoms\n",
    "columns_to_expand = [1,2,3,5,6,7,8,9,10,11,12,13,14,16,17,19,22,24,25,26,27,28]\n",
    "phi, degrees_poly = phi_optimized(y_new,tx_rem,degrees_tested,P, 4, initial_w, lambdas, gamma,max_iters,columns_to_expand)\n",
    "\n",
    "print(phi.size)"
   ]
  },
  {
   "cell_type": "code",
   "execution_count": 5,
   "id": "b8b6c84c",
   "metadata": {},
   "outputs": [
    {
     "name": "stdout",
     "output_type": "stream",
     "text": [
      "(250000, 39)\n",
      "[1, 1, 1, 1, 2, 3, 1, 1, 3, 2, 3, 1, 2, 1, 2, 1, 1, 3, 2, 1, 3, 2]\n"
     ]
    }
   ],
   "source": [
    "print(phi.shape)\n",
    "print(degrees_poly)"
   ]
  },
  {
   "cell_type": "code",
   "execution_count": null,
   "id": "92953e38",
   "metadata": {},
   "outputs": [],
   "source": [
    "phi = np.delete(phi,29,1)\n",
    "phi = np.delete(phi,23,1)\n",
    "phi = np.delete(phi,21,1)\n",
    "phi = np.delete(phi,4,1)"
   ]
  },
  {
   "cell_type": "code",
   "execution_count": 6,
   "id": "2bc687a6",
   "metadata": {},
   "outputs": [],
   "source": [
    "#standardisation entre 0 et 1\n",
    "\n",
    "for x in range(phi.shape[1]) :\n",
    "     c = phi[:,x]\n",
    "     min = np.min(c, axis=0)\n",
    "     max = np.max(c, axis=0)\n",
    "     phi[:,x] = (c-min) / max\n",
    "     \n"
   ]
  },
  {
   "cell_type": "code",
   "execution_count": null,
   "id": "ecb61afb",
   "metadata": {},
   "outputs": [],
   "source": []
  },
  {
   "cell_type": "code",
   "execution_count": 7,
   "id": "d683eded",
   "metadata": {},
   "outputs": [],
   "source": [
    "#phi = add_w0(phi,phi.shape[0])   \n",
    "tx_reduced = (phi[range(10000),:])  # 100x30 data for faster testing of regression\n",
    "y_reduced = (y_new[range(10000)])\n",
    "ratio = 0.8\n",
    "\n",
    "y_tr, x_tr, y_te, x_te = split_data(y_reduced,tx_reduced,ratio)\n"
   ]
  },
  {
   "cell_type": "code",
   "execution_count": 12,
   "id": "c5e70380",
   "metadata": {},
   "outputs": [
    {
     "name": "stderr",
     "output_type": "stream",
     "text": [
      "/var/folders/xl/7xxnqhrj2l7f4ypwccgd0rnm0000gn/T/ipykernel_10383/4154100864.py:2: DeprecationWarning: `np.str` is a deprecated alias for the builtin `str`. To silence this warning, use `str` by itself. Doing this will not modify any behavior and is safe. If you specifically wanted the numpy scalar type, use `np.str_` here.\n",
      "Deprecated in NumPy 1.20; for more details and guidance: https://numpy.org/devdocs/release/1.20.0-notes.html#deprecations\n",
      "  plt.xlabel('X label' + np.str(x))\n"
     ]
    },
    {
     "data": {
      "image/png": "[encoded data removed]",
      "text/plain": [
       "<Figure size 640x480 with 1 Axes>"
      ]
     },
     "metadata": {},
     "output_type": "display_data"
    }
   ],
   "source": [
    "plt.hist(tx_rem[:,27], bins=40)\n",
    "plt.xlabel('X label' + np.str(x))\n",
    "plt.ylabel('Y label')\n",
    "plt.show()"
   ]
  },
  {
   "cell_type": "code",
   "execution_count": 8,
   "id": "4200d98f",
   "metadata": {},
   "outputs": [],
   "source": [
    "initial_w = np.zeros([x_tr.shape[1],1])   \n",
    "max_iters = 1000\n",
    "gamma = 0.3\n",
    "w_opt,loss = logistic_regression(y_tr,x_tr,initial_w,max_iters,gamma)"
   ]
  },
  {
   "cell_type": "code",
   "execution_count": 9,
   "id": "7c801fe4",
   "metadata": {},
   "outputs": [
    {
     "name": "stdout",
     "output_type": "stream",
     "text": [
      "0.5487562650250946\n",
      "(40, 1)\n"
     ]
    }
   ],
   "source": [
    "print(loss)\n",
    "print(w_opt.shape)"
   ]
  },
  {
   "cell_type": "code",
   "execution_count": 10,
   "id": "ce3c4b92",
   "metadata": {},
   "outputs": [],
   "source": [
    "def get_accuracy(y_predictions, y_te):\n",
    "    \"\"\"Checks whether prediction are accurate by compraing with y_te\n",
    "    \n",
    "    Args: \n",
    "        predictions:\n",
    "        y_te:\n",
    "    \n",
    "    Returns:\n",
    "        len(good_guess):\n",
    "        len(bad_guess):\n",
    "    \"\"\" \n",
    "    \n",
    "    difference = (y_predictions-y_te)\n",
    "    good_guess = difference[difference==0]\n",
    "    bad_guess = difference[difference!=0]\n",
    "    print(len(good_guess),len(bad_guess))\n",
    "    \n",
    "    return len(good_guess), len(bad_guess)"
   ]
  },
  {
   "cell_type": "code",
   "execution_count": 11,
   "id": "0ca310ef",
   "metadata": {},
   "outputs": [
    {
     "name": "stdout",
     "output_type": "stream",
     "text": [
      "1410 590\n",
      "0.705\n"
     ]
    }
   ],
   "source": [
    "temporary = sigmoid(x_te@w_opt)\n",
    "y_result = temporary\n",
    "y_result[y_result>0.6] = 1\n",
    "y_result[y_result<0.6] = 0\n",
    "right, wrong = get_accuracy(y_result, y_te)\n",
    "print(right/(right+wrong))"
   ]
  },
  {
   "cell_type": "code",
   "execution_count": null,
   "id": "d5d20f79",
   "metadata": {},
   "outputs": [],
   "source": [
    "import numpy as np\n",
    "import matplotlib.pyplot as plt\n",
    "from math import dist,ceil\n",
    "\n",
    "\n",
    "\n",
    "def get_Kneighbors(x_tr, K, new_sample):\n",
    "    \"\"\"Finds K nearest neighbors using euclidian distance\n",
    "    \n",
    "    Args:\n",
    "        x_tr: \n",
    "        K: \n",
    "        new_sample: \n",
    "        \n",
    "    Returns:\n",
    "        Kneighbors:\n",
    "        Kindexes:    \n",
    "    \"\"\"\n",
    "    samples = np.shape(x_tr)[0] \n",
    "    neighbors = np.zeros((samples,1))\n",
    "    Kneighbors = np.zeros((K,1))\n",
    "    Kindexes = np.zeros((K,1))\n",
    "    \n",
    "    for i in range (samples):\n",
    "        neighbors[i] = dist(x_tr[i,:], new_sample)  #computes euclidean distance between two samples\n",
    "           \n",
    "    for j in range (K):\n",
    "        Kneighbors[j] = min(neighbors)\n",
    "        idx = np.argmin(neighbors)\n",
    "        #remove for the next iteration the last smallest value:\n",
    "        Kindexes[j] = idx\n",
    "        neighbors = np.delete(neighbors, idx)\n",
    "        \n",
    "    return Kneighbors, Kindexes  \n",
    "\n",
    "\n",
    "\n",
    "\n",
    "def get_prediction(Kindexes, K, y_tr):\n",
    "    \"\"\"Predicts y = 0 or 1 using the prediction of K-nearest neighbors\n",
    "    \n",
    "    Args:\n",
    "        Kindexes: \n",
    "        K:  \n",
    "        \n",
    "    Returns:\n",
    "        predictions:\n",
    "        new_prediction:    \n",
    "    \"\"\"\n",
    "    \n",
    "    predictions = np.zeros((K,1))\n",
    "    \n",
    "    for m in range (K):\n",
    "        predictions[m] = y_tr[np.int(Kindexes[m])]  #warning because of forced int()\n",
    "        \n",
    "    scoreKNN = np.mean(predictions)\n",
    "        \n",
    "    if scoreKNN >= 0.5:\n",
    "        new_prediction = 1\n",
    "    else:\n",
    "        new_prediction = 0\n",
    "        \n",
    "    return scoreKNN, new_prediction\n",
    "\n",
    "\n",
    "\n",
    "def get_accuracy(y_results, y_te, score):\n",
    "    \"\"\"Checks whether prediction are accurate by compraing with y_te\n",
    "    \n",
    "    Args: \n",
    "        predictions:\n",
    "        y_te:\n",
    "    \n",
    "    Returns:\n",
    "        len(good_guess):\n",
    "        len(bad_guess):\n",
    "    \"\"\" \n",
    "    \n",
    "    difference = (y_results-y_te)\n",
    "    good_guess = difference[difference==0]\n",
    "    bad_guess = difference[difference!=0]\n",
    "    accuracy = len(good_guess)/(len(good_guess)+len(bad_guess))\n",
    "    TP = 0\n",
    "    TN = 0\n",
    "    FP = 0\n",
    "    FN = 0\n",
    "    \n",
    "    for i in range(y_results.shape[0]):\n",
    "        if difference[i] == 1:\n",
    "            FP +=1\n",
    "        if difference[i] == -1:\n",
    "            FN +=1\n",
    "        else :\n",
    "            if y_results[i] == 1:\n",
    "                TP +=1\n",
    "            else:\n",
    "                TN +=1       \n",
    "                \n",
    "    precision = TP/(TP+FP)  \n",
    "    recall = TP/(TP+FN)\n",
    "    auc = get_auc(score, y_te)\n",
    "    #print(f\"How well our model can classify binary outcomes: accuracy of {accuracy}, precision of {precision}, and recall of {recall}\")\n",
    "    print(\"How well our model can classify binary outcomes: accuracy of %.3f, precision of %.3f, recall of %.3f, and AUC score of %.3f\" % (accuracy, precision, recall, auc))\n",
    "    \n",
    "    return accuracy, precision, recall\n",
    "\n",
    "\n",
    "\n",
    "def get_auc(score, y_results):\n",
    "\n",
    "    y = y_results\n",
    "\n",
    "    # false positive rate\n",
    "    FPR = []\n",
    "    # true positive rate\n",
    "    TPR = []\n",
    "    # Iterate thresholds from 0.0 to 1.0\n",
    "    thresholds = np.arange(0.0, 1.01, 0.001)\n",
    "    print(len(thresholds))\n",
    "\n",
    "    # get number of positive and negative examples in the dataset\n",
    "    P = sum(y)\n",
    "    N = len(y) - P\n",
    "\n",
    "    # iterate through all thresholds and determine fraction of true positives\n",
    "    # and false positives found at this threshold\n",
    "    for thresh in thresholds:\n",
    "        FP=0\n",
    "        TP=0\n",
    "        thresh = round(thresh,2) \n",
    "        for i in range(len(score)):\n",
    "            if (score[i] >= thresh):\n",
    "                if y[i] == 1:\n",
    "                    TP += 1\n",
    "                if y[i] == 0:\n",
    "                    FP += 1            \n",
    "        FPR = np.append(FPR,FP/N)\n",
    "        TPR = np.append(TPR, TP/P)\n",
    "\n",
    "    #computing Arean Under Curve using the trapezoidal method\n",
    "    auc = -1 * np.trapz(TPR, x=FPR)\n",
    "    print(auc)\n",
    "\n",
    "    \n",
    "    plt.plot(FPR, TPR, marker='.', color='darkorange', label='ROC curve', clip_on=False)\n",
    "    plt.plot([0, 1], [0, 1], color='navy', linestyle='--', label = 'No Discrimination')\n",
    "    plt.xlabel('False Positive Rate')\n",
    "    plt.ylabel('True Positive Rate')\n",
    "    plt.xlim([0.0, 1.0])\n",
    "    plt.ylim([0.0, 1.0])\n",
    "    plt.title('ROC curve, AUC = %.2f'%auc)\n",
    "    plt.legend(loc=\"lower right\")\n",
    "    plt.grid(True)\n",
    "    plt.savefig('AUC_example.png')\n",
    "    plt.show()\n",
    "    \n",
    "    return auc"
   ]
  },
  {
   "cell_type": "code",
   "execution_count": null,
   "id": "cdef773b",
   "metadata": {},
   "outputs": [],
   "source": [
    "temporary = sigmoid(x_te@w_opt)\n",
    "y_result = temporary\n",
    "y_result[y_result>0.5] = 1\n",
    "y_result[y_result<0.5] = 0\n",
    "score = sigmoid(x_te@w_opt)\n",
    "accuracy, precision, recall = get_accuracy(y_result, y_te, score)"
   ]
  },
  {
   "cell_type": "code",
   "execution_count": null,
   "id": "bca6ab99",
   "metadata": {},
   "outputs": [],
   "source": [
    "initial_w = np.ones([x_tr.shape[1],1])\n",
    "max_iters = 1000\n",
    "best_lambda, best_rmse = cross_validation_demo(y_tr, x_tr, 7, 4,initial_w,  np.logspace(-4, 0, 70), 3 ,gamma, max_iters )"
   ]
  },
  {
   "cell_type": "code",
   "execution_count": null,
   "id": "7e7c0184",
   "metadata": {},
   "outputs": [],
   "source": [
    "\n",
    "w_opt2,loss2 = reg_logistic_regression(y_tr, x_tr, best_lambda, initial_w, max_iters, gamma)\n",
    "print(loss2)"
   ]
  },
  {
   "cell_type": "code",
   "execution_count": null,
   "id": "a84d7c72",
   "metadata": {},
   "outputs": [],
   "source": [
    "temporary = sigmoid(x_te@w_opt2)\n",
    "y_result = temporary\n",
    "y_result[y_result>0.5] = 1\n",
    "y_result[y_result<0.5] = 0\n",
    "score = sigmoid(x_te@w_opt2)\n",
    "accuracy, precision, recall = get_accuracy(y_result, y_te, score)"
   ]
  }
 ],
 "metadata": {
  "kernelspec": {
   "display_name": "Python 3.9.5 64-bit",
   "language": "python",
   "name": "python3"
  },
  "language_info": {
   "codemirror_mode": {
    "name": "ipython",
    "version": 3
   },
   "file_extension": ".py",
   "mimetype": "text/x-python",
   "name": "python",
   "nbconvert_exporter": "python",
   "pygments_lexer": "ipython3",
   "version": "3.9.5"
  },
  "vscode": {
   "interpreter": {
    "hash": "aee8b7b246df8f9039afb4144a1f6fd8d2ca17a180786b69acc140d282b71a49"
   }
  }
 },
 "nbformat": 4,
 "nbformat_minor": 5
}
