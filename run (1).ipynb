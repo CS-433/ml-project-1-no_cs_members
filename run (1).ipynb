{
 "cells": [
  {
   "cell_type": "code",
   "execution_count": 153,
   "id": "fee6f6b0-1331-4f6b-a386-2e00d9036945",
   "metadata": {},
   "outputs": [
    {
     "name": "stdout",
     "output_type": "stream",
     "text": [
      "The autoreload extension is already loaded. To reload it, use:\n",
      "  %reload_ext autoreload\n"
     ]
    }
   ],
   "source": [
    "import numpy as np\n",
    "from helpers import *\n",
    "from implementations import *\n",
    "from data_processing import *\n",
    "from hyperparams import *\n",
    "# from classification import *\n",
    "%load_ext autoreload\n",
    "%autoreload 2"
   ]
  },
  {
   "cell_type": "code",
   "execution_count": 154,
   "id": "3049ab19",
   "metadata": {},
   "outputs": [],
   "source": [
    "%reload_ext autoreload # run this when want to update changes in a function"
   ]
  },
  {
   "cell_type": "code",
   "execution_count": 155,
   "id": "218600e2-5d34-4bc0-ad81-322fd83a5730",
   "metadata": {},
   "outputs": [],
   "source": [
    "# loading train data (takes 10 secs, avoid spamming cell)\n",
    "yb, input_data, ids = load_csv_data(\"train.csv\")\n",
    "dimensions = np.shape(input_data)\n",
    "N = dimensions[0]\n",
    "P = dimensions[1]\n",
    "yb = np.reshape(yb,[N,1])\n",
    "yb[yb==-1] = 0\n"
   ]
  },
  {
   "cell_type": "code",
   "execution_count": 157,
   "id": "22d3083f-fad1-4cbe-80b2-df26482809a5",
   "metadata": {},
   "outputs": [],
   "source": [
    "# standardize data without the incomplete points, calculations done on _rem arrays (with -999 lines removed)\n",
    "y_rem, tx_rem_std = standardize_data_removed(yb,input_data)\n",
    "tx_means_std = standardize_data_mean(input_data)\n",
    "\n",
    "tx_rem_std = add_w0(tx_rem_std,tx_rem_std.shape[0])   \n",
    "tx_means_std = add_w0(tx_means_std,N)   "
   ]
  },
  {
   "cell_type": "code",
   "execution_count": 142,
   "id": "0d0712f5-6168-4719-86ef-728fedc4a0ea",
   "metadata": {},
   "outputs": [],
   "source": [
    "tx_reduced = tx_rem_std[range(1000),:]  # 100x30 data for faster testing of regression\n",
    "y_reduced = yb[0:1000]\n",
    "ratio = 0.8\n",
    "\n",
    "y_tr, x_tr, y_te, x_te = split_data(y_reduced,tx_reduced,ratio)"
   ]
  },
  {
   "cell_type": "code",
   "execution_count": 145,
   "id": "25f899e9-73ff-4738-99ec-61dadb12f65d",
   "metadata": {},
   "outputs": [],
   "source": [
    "initial_w = np.zeros([31,1])   \n",
    "max_iters = 50\n",
    "gamma = 0.4\n",
    "w_opt,loss = logistic_regression(y_tr,x_tr,initial_w,max_iters,gamma)"
   ]
  },
  {
   "cell_type": "code",
   "execution_count": 146,
   "id": "ca145c81-a329-46cc-9f5a-1c53eaf24d6a",
   "metadata": {},
   "outputs": [
    {
     "name": "stdout",
     "output_type": "stream",
     "text": [
      "0.5212264738117738\n"
     ]
    }
   ],
   "source": [
    "np.shape(initial_w)\n",
    "np.shape(w_opt)\n",
    "print(loss)              #\"PROBLEM nan\""
   ]
  },
  {
   "cell_type": "code",
   "execution_count": null,
   "id": "88126c6f",
   "metadata": {},
   "outputs": [],
   "source": [
    "number_of_elements = 1000\n",
    "\n",
    "for i in range(number_of_elements):\n",
    "    if i % 100 == 0:\n",
    "        print(i)\n",
    "    best_lambda, best_rmse = cross_validation_demo(y_reduced, tx_reduced, 7, 4, initial_w,  np.logspace(-4, 0, 30), 3 ,gamma, max_iters)\n",
    "    print(best_rmse)#Here should be the code that does the computation.\n",
    "\n",
    "print('Done')"
   ]
  }
 ],
 "metadata": {
  "kernelspec": {
   "display_name": "Python 3.7.3 64-bit",
   "language": "python",
   "name": "python3"
  },
  "language_info": {
   "codemirror_mode": {
    "name": "ipython",
    "version": 3
   },
   "file_extension": ".py",
   "mimetype": "text/x-python",
   "name": "python",
   "nbconvert_exporter": "python",
   "pygments_lexer": "ipython3",
   "version": "3.7.3"
  },
  "vscode": {
   "interpreter": {
    "hash": "31f2aee4e71d21fbe5cf8b01ff0e069b9275f58929596ceb00d14d90e3e16cd6"
   }
  }
 },
 "nbformat": 4,
 "nbformat_minor": 5
}
