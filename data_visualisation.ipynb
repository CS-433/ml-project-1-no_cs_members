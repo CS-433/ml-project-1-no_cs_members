{
 "cells": [
  {
   "cell_type": "code",
   "execution_count": 2,
   "metadata": {},
   "outputs": [
    {
     "name": "stdout",
     "output_type": "stream",
     "text": [
      "The autoreload extension is already loaded. To reload it, use:\n",
      "  %reload_ext autoreload\n"
     ]
    }
   ],
   "source": [
    "\n",
    "from grid_search import * # You can call any functions of the file with function_name()\n",
    "\n",
    "%matplotlib inline\n",
    "import numpy as np\n",
    "import matplotlib.pyplot as plt\n",
    "from helpers import *\n",
    "from gradient_descent import *\n",
    "from test_utils import test\n",
    "%load_ext autoreload\n",
    "%autoreload 2\n",
    "\n",
    "import csv"
   ]
  },
  {
   "cell_type": "code",
   "execution_count": 3,
   "metadata": {},
   "outputs": [],
   "source": [
    "file = open('train.csv')\n",
    "csvreader = csv.reader(file)\n",
    "header = []\n",
    "header = next(csvreader)\n",
    "traindata = []\n",
    "for row in csvreader:\n",
    "        traindata.append(row)\n",
    "np.shape(traindata)\n",
    "data = np.array(traindata)"
   ]
  },
  {
   "cell_type": "code",
   "execution_count": 4,
   "metadata": {},
   "outputs": [],
   "source": [
    "y = data[:,1]\n",
    "x = data[:,2:]    # x,y are arrays of strings !"
   ]
  },
  {
   "cell_type": "code",
   "execution_count": 6,
   "metadata": {},
   "outputs": [
    {
     "data": {
      "text/plain": [
       "(250000, 30)"
      ]
     },
     "execution_count": 6,
     "metadata": {},
     "output_type": "execute_result"
    }
   ],
   "source": [
    "np.shape(x)"
   ]
  },
  {
   "cell_type": "code",
   "execution_count": 57,
   "metadata": {},
   "outputs": [
    {
     "name": "stderr",
     "output_type": "stream",
     "text": [
      "/Users/alexei.ermochkine/Library/Python/3.7/lib/python/site-packages/ipykernel_launcher.py:1: DeprecationWarning: `np.float` is a deprecated alias for the builtin `float`. To silence this warning, use `float` by itself. Doing this will not modify any behavior and is safe. If you specifically wanted the numpy scalar type, use `np.float64` here.\n",
      "Deprecated in NumPy 1.20; for more details and guidance: https://numpy.org/devdocs/release/1.20.0-notes.html#deprecations\n",
      "  \"\"\"Entry point for launching an IPython kernel.\n"
     ]
    },
    {
     "name": "stdout",
     "output_type": "stream",
     "text": [
      "0\n",
      "423.28783360616444\n",
      "1\n",
      "2661.1635317157793\n",
      "2\n",
      "2856.074035673095\n",
      "3\n",
      "3167.243308311977\n",
      "4\n",
      "3168.2552484530033\n",
      "5\n",
      "567.6889418713386\n",
      "6\n",
      "559.9589320209117\n",
      "7\n",
      "2661.492844243997\n",
      "8\n",
      "3166.8184042415505\n",
      "9\n",
      "2698.7516899131347\n",
      "10\n",
      "3326.978835994302\n",
      "11\n",
      "516.6258331345811\n",
      "12\n",
      "2673.86119386927\n",
      "13\n",
      "3166.092359737473\n",
      "14\n",
      "3322.9401875903513\n",
      "15\n",
      "3165.8749188101224\n",
      "16\n",
      "2657.0679926590137\n",
      "17\n",
      "3171.9372334127293\n",
      "18\n",
      "3320.0760193131123\n",
      "19\n",
      "3320.135051685699\n",
      "20\n",
      "3323.958866201566\n",
      "21\n",
      "3166.889148876386\n",
      "22\n",
      "3163.0473811386387\n",
      "23\n",
      "856.3127416510863\n",
      "24\n",
      "3175.0784342927655\n",
      "25\n",
      "3162.962847518447\n",
      "26\n",
      "2653.989423754171\n",
      "27\n",
      "1161.7885940006472\n",
      "28\n",
      "2662.348356998948\n",
      "29\n",
      "590.0555756680891\n"
     ]
    }
   ],
   "source": [
    "xx = x.astype(np.float)\n",
    "for i in range(0,30):\n",
    "    print(i)\n",
    "    print(np.linalg.norm(xx[i,:]))\n",
    "\n",
    "# remove data points with big norms\n",
    "# normal norm < 700, abnormal > 2000   ???\n"
   ]
  },
  {
   "cell_type": "code",
   "execution_count": 53,
   "metadata": {},
   "outputs": [
    {
     "data": {
      "text/plain": [
       "array([1.43905e+02, 8.14170e+01, 8.09430e+01, 4.14000e-01, 9.99000e+02,\n",
       "       9.99000e+02, 9.99000e+02, 3.31000e+00, 4.14000e-01, 7.59680e+01,\n",
       "       2.35400e+00, 1.28500e+00, 9.99000e+02, 2.26470e+01, 1.65500e+00,\n",
       "       1.00000e-02, 5.33210e+01, 5.22000e-01, 3.10000e+00, 3.10820e+01,\n",
       "       6.00000e-02, 8.60620e+01, 0.00000e+00, 9.99000e+02, 9.99000e+02,\n",
       "       9.99000e+02, 9.99000e+02, 9.99000e+02, 9.99000e+02, 0.00000e+00])"
      ]
     },
     "execution_count": 53,
     "metadata": {},
     "output_type": "execute_result"
    }
   ],
   "source": [
    "np.shape(xx)\n",
    "30*250000\n",
    "np.abs(xx[3,:])"
   ]
  },
  {
   "cell_type": "code",
   "execution_count": null,
   "metadata": {},
   "outputs": [],
   "source": []
  }
 ],
 "metadata": {
  "kernelspec": {
   "display_name": "Python 3.7.3 64-bit",
   "language": "python",
   "name": "python3"
  },
  "language_info": {
   "codemirror_mode": {
    "name": "ipython",
    "version": 3
   },
   "file_extension": ".py",
   "mimetype": "text/x-python",
   "name": "python",
   "nbconvert_exporter": "python",
   "pygments_lexer": "ipython3",
   "version": "3.7.3"
  },
  "orig_nbformat": 4,
  "vscode": {
   "interpreter": {
    "hash": "31f2aee4e71d21fbe5cf8b01ff0e069b9275f58929596ceb00d14d90e3e16cd6"
   }
  }
 },
 "nbformat": 4,
 "nbformat_minor": 2
}
