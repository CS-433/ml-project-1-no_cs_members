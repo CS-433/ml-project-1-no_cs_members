{
 "cells": [
  {
   "cell_type": "code",
   "execution_count": 1,
   "metadata": {},
   "outputs": [],
   "source": [
    "import numpy as np\n",
    "from helpers import *\n",
    "from implementations import *"
   ]
  },
  {
   "cell_type": "code",
   "execution_count": 2,
   "metadata": {},
   "outputs": [],
   "source": [
    "# loading train data (takes 10 secs, avoid spamming cell)\n",
    "\n",
    "yb, input_data, ids = load_csv_data(\"train.csv\")\n",
    "dimensions = np.shape(input_data)\n",
    "N = dimensions[0]\n",
    "P = dimensions[1]\n",
    "yb = np.reshape(yb,[N,1])\n"
   ]
  },
  {
   "cell_type": "code",
   "execution_count": 58,
   "metadata": {},
   "outputs": [],
   "source": [
    "# standardize data without the incomplete points, calculations done on _rem arrays (with -999 lines removed)\n",
    "idx_incomplete_points = np.nonzero(input_data[:,4]==-999)\n",
    "\n",
    "tx_rem = np.delete(input_data,idx_incomplete_points,0)\n",
    "y_rem = np.delete(yb,idx_incomplete_points)\n",
    "\n",
    "means = np.mean(tx_rem, axis=0)\n",
    "means = means * np.ones(np.shape(tx_rem))\n",
    "tx_rem_std = tx_rem - means\n",
    "\n",
    "std_dev = np.std(tx_rem, axis=0)\n",
    "std_dev = std_dev * np.ones(np.shape(tx_rem))\n",
    "tx_rem_std = tx_rem_std / std_dev       # np.mean(tx_rem_std) should be ~0, np.std(tx_rem_std) should be 1\n"
   ]
  },
  {
   "cell_type": "code",
   "execution_count": 59,
   "metadata": {},
   "outputs": [
    {
     "data": {
      "text/plain": [
       "(72543, 30)"
      ]
     },
     "execution_count": 59,
     "metadata": {},
     "output_type": "execute_result"
    }
   ],
   "source": [
    "np.shape(tx_rem_std)\n"
   ]
  },
  {
   "cell_type": "code",
   "execution_count": 60,
   "metadata": {},
   "outputs": [],
   "source": [
    "tx_train = tx_rem_std[0:100,:]  # 100x30 data for faster testing of regression\n",
    "y_train = yb[0:100]\n"
   ]
  },
  {
   "cell_type": "code",
   "execution_count": 61,
   "metadata": {},
   "outputs": [],
   "source": [
    "initial_w = 3*np.ones([30,1])\n",
    "max_iters = 10\n",
    "gamma = 0.9\n",
    "w_opt,loss = logistic_regression(y_train,tx_train,initial_w,max_iters,gamma)"
   ]
  },
  {
   "cell_type": "code",
   "execution_count": 62,
   "metadata": {},
   "outputs": [
    {
     "data": {
      "text/plain": [
       "(30, 1)"
      ]
     },
     "execution_count": 62,
     "metadata": {},
     "output_type": "execute_result"
    }
   ],
   "source": [
    "np.shape(initial_w)"
   ]
  },
  {
   "cell_type": "code",
   "execution_count": 63,
   "metadata": {},
   "outputs": [
    {
     "data": {
      "text/plain": [
       "3.480514748930746"
      ]
     },
     "execution_count": 63,
     "metadata": {},
     "output_type": "execute_result"
    }
   ],
   "source": [
    "loss"
   ]
  },
  {
   "cell_type": "code",
   "execution_count": 64,
   "metadata": {},
   "outputs": [
    {
     "data": {
      "text/plain": [
       "array([[ 0.30601378,  0.33589804,  0.43671424, ...,  0.61614788,\n",
       "        -1.36131161, -0.63958218],\n",
       "       [ 0.12880888, -0.71689763, -0.46648342, ...,  0.11608109,\n",
       "         1.71034105,  0.10556264],\n",
       "       [ 0.34341424, -0.29384535,  0.66918057, ...,  0.07030726,\n",
       "        -1.52202162, -0.02255546],\n",
       "       ...,\n",
       "       [ 0.49980958, -0.97072347,  1.13770939, ..., -1.05484302,\n",
       "         0.90018647,  0.08191522],\n",
       "       [ 0.14045016, -0.73772975, -0.23219565, ..., -1.29257163,\n",
       "        -0.46639901,  1.29077821],\n",
       "       [ 0.28828092,  0.73389099,  0.51688068, ..., -1.11439822,\n",
       "        -0.88028233, -0.73337247]])"
      ]
     },
     "execution_count": 64,
     "metadata": {},
     "output_type": "execute_result"
    }
   ],
   "source": [
    "tx_train"
   ]
  },
  {
   "cell_type": "code",
   "execution_count": null,
   "metadata": {},
   "outputs": [],
   "source": []
  }
 ],
 "metadata": {
  "kernelspec": {
   "display_name": "Python 3.7.3 64-bit",
   "language": "python",
   "name": "python3"
  },
  "language_info": {
   "codemirror_mode": {
    "name": "ipython",
    "version": 3
   },
   "file_extension": ".py",
   "mimetype": "text/x-python",
   "name": "python",
   "nbconvert_exporter": "python",
   "pygments_lexer": "ipython3",
   "version": "3.7.3"
  },
  "orig_nbformat": 4,
  "vscode": {
   "interpreter": {
    "hash": "31f2aee4e71d21fbe5cf8b01ff0e069b9275f58929596ceb00d14d90e3e16cd6"
   }
  }
 },
 "nbformat": 4,
 "nbformat_minor": 2
}
