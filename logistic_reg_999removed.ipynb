{
 "cells": [
  {
   "cell_type": "code",
   "execution_count": 1,
   "metadata": {},
   "outputs": [],
   "source": [
    "import numpy as np\n",
    "from helpers import *\n",
    "from implementations import *"
   ]
  },
  {
   "cell_type": "code",
   "execution_count": 2,
   "metadata": {},
   "outputs": [],
   "source": [
    "# loading train data (takes 10 secs, avoid spamming cell)\n",
    "\n",
    "y, input_data, ids = load_csv_data(\"train.csv\")\n",
    "\n",
    "dimensions = np.shape(input_data)\n",
    "N = dimensions[0]\n",
    "P = dimensions[1]\n",
<<<<<<< Updated upstream
    "yb = np.reshape(yb,[N,1])\n"
=======
    "\n",
    "yb = y\n",
    "yb = np.reshape(yb, [N,1])  # removing 0 dimension \n",
    "yb[y==-1] = 0  # setting labels to (0,1) to adapt to our logistic lost fun\n"
>>>>>>> Stashed changes
   ]
  },
  {
   "cell_type": "code",
<<<<<<< Updated upstream
   "execution_count": 58,
=======
   "execution_count": 4,
>>>>>>> Stashed changes
   "metadata": {},
   "outputs": [],
   "source": [
    "# standardize data without the incomplete points, calculations done on \"_rem\" arrays (with -999 lines rem)\n",
    "idx_incomplete_points = np.nonzero(input_data[:,4]==-999)\n",
    "\n",
    "tx_rem = np.delete(input_data,idx_incomplete_points,0)\n",
    "y_rem = np.delete(yb,idx_incomplete_points)\n",
    "\n",
    "means = np.mean(tx_rem, axis=0)\n",
    "means = means * np.ones(np.shape(tx_rem))\n",
    "tx_rem_std = tx_rem - means\n",
    "\n",
    "std_dev = np.std(tx_rem, axis=0)\n",
    "std_dev = std_dev * np.ones(np.shape(tx_rem))\n",
    "tx_rem_std = tx_rem_std / std_dev       # np.mean(tx_rem_std) should be ~0, np.std(tx_rem_std) should be 1\n",
    "\n",
    "tx_rem_std = np.append(np.ones([len(tx_rem_std),1]), tx_rem_std, axis=1)    # adding column of 1\n",
    "P = P+1\n"
   ]
  },
  {
   "cell_type": "code",
<<<<<<< Updated upstream
   "execution_count": 59,
=======
   "execution_count": 5,
>>>>>>> Stashed changes
   "metadata": {},
   "outputs": [
    {
     "data": {
      "text/plain": [
<<<<<<< Updated upstream
       "(72543, 30)"
      ]
     },
     "execution_count": 59,
=======
       "1.0000000000000173"
      ]
     },
     "execution_count": 5,
>>>>>>> Stashed changes
     "metadata": {},
     "output_type": "execute_result"
    }
   ],
   "source": [
<<<<<<< Updated upstream
    "np.shape(tx_rem_std)\n"
=======
    "np.shape(tx_rem_std)\n",
    "np.var(tx_rem_std[:,2:])  # first column is 1 !\n",
    "\n"
>>>>>>> Stashed changes
   ]
  },
  {
   "cell_type": "code",
<<<<<<< Updated upstream
   "execution_count": 60,
   "metadata": {},
   "outputs": [],
   "source": [
    "tx_train = tx_rem_std[0:100,:]  # 100x30 data for faster testing of regression\n",
    "y_train = yb[0:100]\n"
=======
   "execution_count": 6,
   "metadata": {},
   "outputs": [],
   "source": [
    "reduced_size = 1000\n",
    "tx_short = tx_rem_std[range(reduced_size),:]  # 100x30 data for faster testing of regression\n",
    "y_short = yb[0:reduced_size]\n",
    "y_short[y_short==-1]= 0\n",
    "yb[yb==-1] = 0\n",
    "# generate random indices\n",
    "ratio = 0.8\n",
    "num_row = len(y_short)\n",
    "indices = np.random.permutation(num_row)\n",
    "index_split = int(np.floor(ratio * num_row))\n",
    "index_tr = indices[: index_split]\n",
    "index_te = indices[index_split:]\n",
    "# create split\n",
    "x_tr = tx_short[index_tr]\n",
    "x_te = tx_short[index_te]\n",
    "y_tr = y_short[index_tr]\n",
    "y_te = y_short[index_te]\n"
>>>>>>> Stashed changes
   ]
  },
  {
   "cell_type": "code",
<<<<<<< Updated upstream
   "execution_count": 61,
   "metadata": {},
   "outputs": [],
   "source": [
    "initial_w = 3*np.ones([30,1])\n",
    "max_iters = 10\n",
    "gamma = 0.9\n",
    "w_opt,loss = logistic_regression(y_train,tx_train,initial_w,max_iters,gamma)"
=======
   "execution_count": 139,
   "metadata": {},
   "outputs": [],
   "source": [
    "initial_w = np.ones([P+1,1])\n",
    "max_iters = 100\n",
    "gamma = 0.7\n",
    "w_opt,loss = logistic_regression(y_short,tx_short,initial_w,max_iters,gamma)\n",
    "w_opt2,loss2 = reg_logistic_regression(y_short, tx_short, 0.00014, initial_w, max_iters, gamma)"
>>>>>>> Stashed changes
   ]
  },
  {
   "cell_type": "code",
<<<<<<< Updated upstream
   "execution_count": 62,
=======
   "execution_count": 140,
   "metadata": {},
   "outputs": [],
   "source": [
    "#w_opt,loss = logistic_regression(y_rem,tx_rem_std,initial_w,max_iters,gamma)"
   ]
  },
  {
   "cell_type": "code",
   "execution_count": 141,
>>>>>>> Stashed changes
   "metadata": {},
   "outputs": [
    {
     "name": "stdout",
     "output_type": "stream",
     "text": [
      "For polynomial expansion up to degree 3, the choice of lambda which leads to the best test rmse is 0.00026 with a test rmse of 0.641\n",
      "0.6411768293093393\n"
     ]
    },
    {
     "data": {
      "image/png": "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",
      "text/plain": [
       "<Figure size 432x288 with 1 Axes>"
      ]
     },
<<<<<<< Updated upstream
     "execution_count": 62,
     "metadata": {},
     "output_type": "execute_result"
=======
     "metadata": {
      "needs_background": "light"
     },
     "output_type": "display_data"
>>>>>>> Stashed changes
    }
   ],
   "source": [
    "initial_w = np.ones([P+1,1])*4\n",
    "max_iters = 70\n",
    "gamma = 0.7\n",
    "best_lambda, best_rmse = cross_validation_demo(y_short, tx_short, 7, 4,initial_w,  np.logspace(-4, 0, 30), 3 ,gamma, max_iters )\n",
    "print(best_rmse)"
   ]
  },
  {
   "cell_type": "code",
   "execution_count": 142,
   "metadata": {},
   "outputs": [],
   "source": [
    "temporary = sigmoid(x_te@w_opt)\n",
    "y_result = temporary\n",
    "y_result[y_result>0.5]=1\n",
    "y_result[y_result<0.5]=0"
   ]
  },
  {
   "cell_type": "code",
   "execution_count": 143,
   "metadata": {},
   "outputs": [],
   "source": [
    "difference = (y_result-y_te)\n",
    "good_guess = difference[difference==0]\n",
    "bad_guess = difference[difference!=0]"
   ]
  },
  {
   "cell_type": "code",
<<<<<<< Updated upstream
   "execution_count": 63,
=======
   "execution_count": 144,
>>>>>>> Stashed changes
   "metadata": {},
   "outputs": [
    {
     "data": {
      "text/plain": [
<<<<<<< Updated upstream
       "3.480514748930746"
      ]
     },
     "execution_count": 63,
=======
       "9334"
      ]
     },
     "execution_count": 144,
>>>>>>> Stashed changes
     "metadata": {},
     "output_type": "execute_result"
    }
   ],
   "source": [
<<<<<<< Updated upstream
    "loss"
=======
    "len(good_guess)"
>>>>>>> Stashed changes
   ]
  },
  {
   "cell_type": "code",
<<<<<<< Updated upstream
   "execution_count": 64,
   "metadata": {},
   "outputs": [
    {
     "data": {
      "text/plain": [
       "array([[ 0.30601378,  0.33589804,  0.43671424, ...,  0.61614788,\n",
       "        -1.36131161, -0.63958218],\n",
       "       [ 0.12880888, -0.71689763, -0.46648342, ...,  0.11608109,\n",
       "         1.71034105,  0.10556264],\n",
       "       [ 0.34341424, -0.29384535,  0.66918057, ...,  0.07030726,\n",
       "        -1.52202162, -0.02255546],\n",
       "       ...,\n",
       "       [ 0.49980958, -0.97072347,  1.13770939, ..., -1.05484302,\n",
       "         0.90018647,  0.08191522],\n",
       "       [ 0.14045016, -0.73772975, -0.23219565, ..., -1.29257163,\n",
       "        -0.46639901,  1.29077821],\n",
       "       [ 0.28828092,  0.73389099,  0.51688068, ..., -1.11439822,\n",
       "        -0.88028233, -0.73337247]])"
      ]
     },
     "execution_count": 64,
=======
   "execution_count": 145,
   "metadata": {},
   "outputs": [
    {
     "data": {
      "text/plain": [
       "4666"
      ]
     },
     "execution_count": 145,
     "metadata": {},
     "output_type": "execute_result"
    }
   ],
   "source": [
    "len(bad_guess)"
   ]
  },
  {
   "cell_type": "code",
   "execution_count": 121,
   "metadata": {},
   "outputs": [
    {
     "data": {
      "text/plain": [
       "0.6416826561334014"
      ]
     },
     "execution_count": 121,
     "metadata": {},
     "output_type": "execute_result"
    }
   ],
   "source": [
    "loss"
   ]
  },
  {
   "cell_type": "code",
   "execution_count": 90,
   "metadata": {},
   "outputs": [
    {
     "data": {
      "text/plain": [
       "0.6930604016968107"
      ]
     },
     "execution_count": 90,
>>>>>>> Stashed changes
     "metadata": {},
     "output_type": "execute_result"
    }
   ],
   "source": [
<<<<<<< Updated upstream
    "tx_train"
=======
    "calculate_logistic_loss(y_te,x_te,w_opt)"
>>>>>>> Stashed changes
   ]
  },
  {
   "cell_type": "code",
<<<<<<< Updated upstream
   "execution_count": null,
   "metadata": {},
=======
   "execution_count": 147,
   "metadata": {},
   "outputs": [
    {
     "data": {
      "text/plain": [
       "0.6667142857142857"
      ]
     },
     "execution_count": 147,
     "metadata": {},
     "output_type": "execute_result"
    }
   ],
   "source": [
    "9334/14000"
   ]
  },
  {
   "cell_type": "code",
   "execution_count": null,
   "metadata": {},
>>>>>>> Stashed changes
   "outputs": [],
   "source": []
  }
 ],
 "metadata": {
  "kernelspec": {
<<<<<<< Updated upstream
   "display_name": "Python 3.7.3 64-bit",
=======
   "display_name": "Python 3.9.5 64-bit",
>>>>>>> Stashed changes
   "language": "python",
   "name": "python3"
  },
  "language_info": {
   "codemirror_mode": {
    "name": "ipython",
    "version": 3
   },
   "file_extension": ".py",
   "mimetype": "text/x-python",
   "name": "python",
   "nbconvert_exporter": "python",
   "pygments_lexer": "ipython3",
<<<<<<< Updated upstream
   "version": "3.7.3"
=======
   "version": "3.9.5"
>>>>>>> Stashed changes
  },
  "orig_nbformat": 4,
  "vscode": {
   "interpreter": {
<<<<<<< Updated upstream
    "hash": "31f2aee4e71d21fbe5cf8b01ff0e069b9275f58929596ceb00d14d90e3e16cd6"
=======
    "hash": "aee8b7b246df8f9039afb4144a1f6fd8d2ca17a180786b69acc140d282b71a49"
>>>>>>> Stashed changes
   }
  }
 },
 "nbformat": 4,
 "nbformat_minor": 2
}
