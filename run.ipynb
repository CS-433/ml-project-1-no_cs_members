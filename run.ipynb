{
 "cells": [
  {
   "cell_type": "code",
   "execution_count": 3,
   "id": "fee6f6b0-1331-4f6b-a386-2e00d9036945",
   "metadata": {},
   "outputs": [],
   "source": [
    "import numpy as np\n",
    "from helpers import *\n",
    "from implementations import *\n",
    "from data_processing import *\n",
    "from hyperparams import *\n",
    "# from classification import *\n",
    "%load_ext autoreload\n",
    "%autoreload 2"
   ]
  },
  {
   "cell_type": "code",
   "execution_count": 2,
   "id": "3049ab19",
   "metadata": {},
   "outputs": [
    {
     "ename": "ModuleNotFoundError",
     "evalue": "No module named 'autoreload # run this when want to update changes in a function'",
     "output_type": "error",
     "traceback": [
      "\u001b[0;31m---------------------------------------------------------------------------\u001b[0m",
      "\u001b[0;31mModuleNotFoundError\u001b[0m                       Traceback (most recent call last)",
      "\u001b[1;32m/Users/toye/Desktop/ML_project1-master-2/run.ipynb Cellule 2\u001b[0m in \u001b[0;36m<cell line: 1>\u001b[0;34m()\u001b[0m\n\u001b[0;32m----> <a href='vscode-notebook-cell:/Users/toye/Desktop/ML_project1-master-2/run.ipynb#W1sZmlsZQ%3D%3D?line=0'>1</a>\u001b[0m get_ipython()\u001b[39m.\u001b[39;49mrun_line_magic(\u001b[39m'\u001b[39;49m\u001b[39mreload_ext\u001b[39;49m\u001b[39m'\u001b[39;49m, \u001b[39m'\u001b[39;49m\u001b[39mautoreload # run this when want to update changes in a function\u001b[39;49m\u001b[39m'\u001b[39;49m)\n",
      "File \u001b[0;32m/opt/miniconda3/lib/python3.9/site-packages/IPython/core/interactiveshell.py:2305\u001b[0m, in \u001b[0;36mInteractiveShell.run_line_magic\u001b[0;34m(self, magic_name, line, _stack_depth)\u001b[0m\n\u001b[1;32m   2303\u001b[0m     kwargs[\u001b[39m'\u001b[39m\u001b[39mlocal_ns\u001b[39m\u001b[39m'\u001b[39m] \u001b[39m=\u001b[39m \u001b[39mself\u001b[39m\u001b[39m.\u001b[39mget_local_scope(stack_depth)\n\u001b[1;32m   2304\u001b[0m \u001b[39mwith\u001b[39;00m \u001b[39mself\u001b[39m\u001b[39m.\u001b[39mbuiltin_trap:\n\u001b[0;32m-> 2305\u001b[0m     result \u001b[39m=\u001b[39m fn(\u001b[39m*\u001b[39;49margs, \u001b[39m*\u001b[39;49m\u001b[39m*\u001b[39;49mkwargs)\n\u001b[1;32m   2306\u001b[0m \u001b[39mreturn\u001b[39;00m result\n",
      "File \u001b[0;32m/opt/miniconda3/lib/python3.9/site-packages/IPython/core/magics/extension.py:63\u001b[0m, in \u001b[0;36mExtensionMagics.reload_ext\u001b[0;34m(self, module_str)\u001b[0m\n\u001b[1;32m     61\u001b[0m \u001b[39mif\u001b[39;00m \u001b[39mnot\u001b[39;00m module_str:\n\u001b[1;32m     62\u001b[0m     \u001b[39mraise\u001b[39;00m UsageError(\u001b[39m'\u001b[39m\u001b[39mMissing module name.\u001b[39m\u001b[39m'\u001b[39m)\n\u001b[0;32m---> 63\u001b[0m \u001b[39mself\u001b[39;49m\u001b[39m.\u001b[39;49mshell\u001b[39m.\u001b[39;49mextension_manager\u001b[39m.\u001b[39;49mreload_extension(module_str)\n",
      "File \u001b[0;32m/opt/miniconda3/lib/python3.9/site-packages/IPython/core/extensions.py:147\u001b[0m, in \u001b[0;36mExtensionManager.reload_extension\u001b[0;34m(self, module_str)\u001b[0m\n\u001b[1;32m    145\u001b[0m         \u001b[39mself\u001b[39m\u001b[39m.\u001b[39mloaded\u001b[39m.\u001b[39madd(module_str)\n\u001b[1;32m    146\u001b[0m \u001b[39melse\u001b[39;00m:\n\u001b[0;32m--> 147\u001b[0m     \u001b[39mself\u001b[39;49m\u001b[39m.\u001b[39;49mload_extension(module_str)\n",
      "File \u001b[0;32m/opt/miniconda3/lib/python3.9/site-packages/IPython/core/extensions.py:76\u001b[0m, in \u001b[0;36mExtensionManager.load_extension\u001b[0;34m(self, module_str)\u001b[0m\n\u001b[1;32m     69\u001b[0m \u001b[39m\"\"\"Load an IPython extension by its module name.\u001b[39;00m\n\u001b[1;32m     70\u001b[0m \n\u001b[1;32m     71\u001b[0m \u001b[39mReturns the string \"already loaded\" if the extension is already loaded,\u001b[39;00m\n\u001b[1;32m     72\u001b[0m \u001b[39m\"no load function\" if the module doesn't have a load_ipython_extension\u001b[39;00m\n\u001b[1;32m     73\u001b[0m \u001b[39mfunction, or None if it succeeded.\u001b[39;00m\n\u001b[1;32m     74\u001b[0m \u001b[39m\"\"\"\u001b[39;00m\n\u001b[1;32m     75\u001b[0m \u001b[39mtry\u001b[39;00m:\n\u001b[0;32m---> 76\u001b[0m     \u001b[39mreturn\u001b[39;00m \u001b[39mself\u001b[39;49m\u001b[39m.\u001b[39;49m_load_extension(module_str)\n\u001b[1;32m     77\u001b[0m \u001b[39mexcept\u001b[39;00m \u001b[39mModuleNotFoundError\u001b[39;00m:\n\u001b[1;32m     78\u001b[0m     \u001b[39mif\u001b[39;00m module_str \u001b[39min\u001b[39;00m BUILTINS_EXTS:\n",
      "File \u001b[0;32m/opt/miniconda3/lib/python3.9/site-packages/IPython/core/extensions.py:92\u001b[0m, in \u001b[0;36mExtensionManager._load_extension\u001b[0;34m(self, module_str)\u001b[0m\n\u001b[1;32m     90\u001b[0m \u001b[39mif\u001b[39;00m module_str \u001b[39mnot\u001b[39;00m \u001b[39min\u001b[39;00m sys\u001b[39m.\u001b[39mmodules:\n\u001b[1;32m     91\u001b[0m     \u001b[39mwith\u001b[39;00m prepended_to_syspath(\u001b[39mself\u001b[39m\u001b[39m.\u001b[39mipython_extension_dir):\n\u001b[0;32m---> 92\u001b[0m         mod \u001b[39m=\u001b[39m import_module(module_str)\n\u001b[1;32m     93\u001b[0m         \u001b[39mif\u001b[39;00m mod\u001b[39m.\u001b[39m\u001b[39m__file__\u001b[39m\u001b[39m.\u001b[39mstartswith(\u001b[39mself\u001b[39m\u001b[39m.\u001b[39mipython_extension_dir):\n\u001b[1;32m     94\u001b[0m             \u001b[39mprint\u001b[39m((\u001b[39m\"\u001b[39m\u001b[39mLoading extensions from \u001b[39m\u001b[39m{dir}\u001b[39;00m\u001b[39m is deprecated. \u001b[39m\u001b[39m\"\u001b[39m\n\u001b[1;32m     95\u001b[0m                    \u001b[39m\"\u001b[39m\u001b[39mWe recommend managing extensions like any \u001b[39m\u001b[39m\"\u001b[39m\n\u001b[1;32m     96\u001b[0m                    \u001b[39m\"\u001b[39m\u001b[39mother Python packages, in site-packages.\u001b[39m\u001b[39m\"\u001b[39m)\u001b[39m.\u001b[39mformat(\n\u001b[1;32m     97\u001b[0m                   \u001b[39mdir\u001b[39m\u001b[39m=\u001b[39mcompress_user(\u001b[39mself\u001b[39m\u001b[39m.\u001b[39mipython_extension_dir)))\n",
      "File \u001b[0;32m/opt/miniconda3/lib/python3.9/importlib/__init__.py:127\u001b[0m, in \u001b[0;36mimport_module\u001b[0;34m(name, package)\u001b[0m\n\u001b[1;32m    125\u001b[0m             \u001b[39mbreak\u001b[39;00m\n\u001b[1;32m    126\u001b[0m         level \u001b[39m+\u001b[39m\u001b[39m=\u001b[39m \u001b[39m1\u001b[39m\n\u001b[0;32m--> 127\u001b[0m \u001b[39mreturn\u001b[39;00m _bootstrap\u001b[39m.\u001b[39;49m_gcd_import(name[level:], package, level)\n",
      "File \u001b[0;32m<frozen importlib._bootstrap>:1030\u001b[0m, in \u001b[0;36m_gcd_import\u001b[0;34m(name, package, level)\u001b[0m\n",
      "File \u001b[0;32m<frozen importlib._bootstrap>:1007\u001b[0m, in \u001b[0;36m_find_and_load\u001b[0;34m(name, import_)\u001b[0m\n",
      "File \u001b[0;32m<frozen importlib._bootstrap>:984\u001b[0m, in \u001b[0;36m_find_and_load_unlocked\u001b[0;34m(name, import_)\u001b[0m\n",
      "\u001b[0;31mModuleNotFoundError\u001b[0m: No module named 'autoreload # run this when want to update changes in a function'"
     ]
    }
   ],
   "source": [
    "%reload_ext autoreload # run this when want to update changes in a function"
   ]
  },
  {
   "cell_type": "code",
   "execution_count": 4,
   "id": "218600e2-5d34-4bc0-ad81-322fd83a5730",
   "metadata": {},
   "outputs": [],
   "source": [
    "# loading train data (takes 10 secs, avoid spamming cell)\n",
    "yb, input_data, ids = load_csv_data(\"train.csv\")\n",
    "dimensions = np.shape(input_data)\n",
    "N = dimensions[0]\n",
    "P = dimensions[1]\n",
    "yb = np.reshape(yb,[N,1])\n",
    "yb[yb==-1] = 0\n"
   ]
  },
  {
   "cell_type": "code",
   "execution_count": 5,
   "id": "22d3083f-fad1-4cbe-80b2-df26482809a5",
   "metadata": {},
   "outputs": [],
   "source": [
    "# standardize data without the incomplete points, calculations done on _rem arrays (with -999 lines removed)\n",
    "y_rem, tx_rem_std = standardize_data_removed(yb,input_data)\n",
    "tx_means_std = standardize_data_mean(input_data)\n",
    "\n",
    "tx_rem_std = add_w0(tx_rem_std,tx_rem_std.shape[0])   \n",
    "tx_means_std = add_w0(tx_means_std,N)   "
   ]
  },
  {
   "cell_type": "code",
   "execution_count": 6,
   "id": "0d0712f5-6168-4719-86ef-728fedc4a0ea",
   "metadata": {},
   "outputs": [],
   "source": [
    "tx_reduced = tx_rem_std[range(1000),:]  # 100x30 data for faster testing of regression\n",
    "y_reduced = yb[0:1000]\n",
    "ratio = 0.8\n",
    "\n",
    "y_tr, x_tr, y_te, x_te = split_data(y_reduced,tx_reduced,ratio)"
   ]
  },
  {
   "cell_type": "code",
   "execution_count": 7,
   "id": "25f899e9-73ff-4738-99ec-61dadb12f65d",
   "metadata": {},
   "outputs": [],
   "source": [
    "initial_w = np.zeros([31,1])   \n",
    "max_iters = 50\n",
    "gamma = 0.4\n",
    "w_opt,loss = logistic_regression(y_tr,x_tr,initial_w,max_iters,gamma)"
   ]
  },
  {
   "cell_type": "code",
   "execution_count": 7,
   "id": "ca145c81-a329-46cc-9f5a-1c53eaf24d6a",
   "metadata": {},
   "outputs": [
    {
     "name": "stdout",
     "output_type": "stream",
     "text": [
      "0.633386653163295\n"
     ]
    }
   ],
   "source": [
    "np.shape(initial_w)\n",
    "np.shape(w_opt)\n",
    "print(loss)              #\"PROBLEM nan\""
   ]
  },
  {
   "cell_type": "code",
   "execution_count": 8,
   "id": "8de1a171",
   "metadata": {},
   "outputs": [
    {
     "name": "stdout",
     "output_type": "stream",
     "text": [
      "0\n",
      "For polynomial expansion up to degree 3, the choice of lambda which leads to the best test rmse is 0.00026 with a test rmse of 0.629\n",
      "0.6294777518061055\n",
      "For polynomial expansion up to degree 3, the choice of lambda which leads to the best test rmse is 0.00026 with a test rmse of 0.629\n",
      "0.6294777509578281\n",
      "For polynomial expansion up to degree 3, the choice of lambda which leads to the best test rmse is 0.00026 with a test rmse of 0.629\n",
      "0.6294777509578281\n",
      "For polynomial expansion up to degree 3, the choice of lambda which leads to the best test rmse is 0.00026 with a test rmse of 0.629\n",
      "0.6294777509578281\n",
      "For polynomial expansion up to degree 3, the choice of lambda which leads to the best test rmse is 0.00026 with a test rmse of 0.629\n",
      "0.6294777509578281\n",
      "For polynomial expansion up to degree 3, the choice of lambda which leads to the best test rmse is 0.00026 with a test rmse of 0.629\n",
      "0.6294777509578281\n",
      "For polynomial expansion up to degree 3, the choice of lambda which leads to the best test rmse is 0.00026 with a test rmse of 0.629\n",
      "0.6294777509578281\n",
      "For polynomial expansion up to degree 3, the choice of lambda which leads to the best test rmse is 0.00026 with a test rmse of 0.629\n",
      "0.6294777509578281\n",
      "For polynomial expansion up to degree 3, the choice of lambda which leads to the best test rmse is 0.00026 with a test rmse of 0.629\n",
      "0.6294777509578281\n"
     ]
    },
    {
     "ename": "KeyboardInterrupt",
     "evalue": "",
     "output_type": "error",
     "traceback": [
      "\u001b[0;31m---------------------------------------------------------------------------\u001b[0m",
      "\u001b[0;31mKeyboardInterrupt\u001b[0m                         Traceback (most recent call last)",
      "\u001b[1;32m/Users/toye/Desktop/ML_project1-master-2/run.ipynb Cellule 8\u001b[0m in \u001b[0;36m<cell line: 3>\u001b[0;34m()\u001b[0m\n\u001b[1;32m      <a href='vscode-notebook-cell:/Users/toye/Desktop/ML_project1-master-2/run.ipynb#X10sZmlsZQ%3D%3D?line=3'>4</a>\u001b[0m     \u001b[39mif\u001b[39;00m i \u001b[39m%\u001b[39m \u001b[39m100\u001b[39m \u001b[39m==\u001b[39m \u001b[39m0\u001b[39m:\n\u001b[1;32m      <a href='vscode-notebook-cell:/Users/toye/Desktop/ML_project1-master-2/run.ipynb#X10sZmlsZQ%3D%3D?line=4'>5</a>\u001b[0m         \u001b[39mprint\u001b[39m(i)\n\u001b[0;32m----> <a href='vscode-notebook-cell:/Users/toye/Desktop/ML_project1-master-2/run.ipynb#X10sZmlsZQ%3D%3D?line=5'>6</a>\u001b[0m     best_lambda, best_rmse \u001b[39m=\u001b[39m cross_validation_demo(y_reduced, tx_reduced, \u001b[39m7\u001b[39;49m, \u001b[39m4\u001b[39;49m, initial_w,  np\u001b[39m.\u001b[39;49mlogspace(\u001b[39m-\u001b[39;49m\u001b[39m4\u001b[39;49m, \u001b[39m0\u001b[39;49m, \u001b[39m30\u001b[39;49m), \u001b[39m3\u001b[39;49m ,gamma, max_iters)\n\u001b[1;32m      <a href='vscode-notebook-cell:/Users/toye/Desktop/ML_project1-master-2/run.ipynb#X10sZmlsZQ%3D%3D?line=6'>7</a>\u001b[0m     \u001b[39mprint\u001b[39m(best_rmse)\u001b[39m#Here should be the code that does the computation.\u001b[39;00m\n\u001b[1;32m      <a href='vscode-notebook-cell:/Users/toye/Desktop/ML_project1-master-2/run.ipynb#X10sZmlsZQ%3D%3D?line=8'>9</a>\u001b[0m \u001b[39mprint\u001b[39m(\u001b[39m'\u001b[39m\u001b[39mDone\u001b[39m\u001b[39m'\u001b[39m)\n",
      "File \u001b[0;32m~/Desktop/ML_project1-master-2/hyperparams.py:103\u001b[0m, in \u001b[0;36mcross_validation_demo\u001b[0;34m(y, x, k_fold, k, initial_w, lambdas, degree, gamma, max_iters)\u001b[0m\n\u001b[1;32m     99\u001b[0m rmse_te_k \u001b[39m=\u001b[39m []\n\u001b[1;32m    101\u001b[0m \u001b[39mfor\u001b[39;00m  k \u001b[39min\u001b[39;00m \u001b[39mrange\u001b[39m(k_fold): \n\u001b[0;32m--> 103\u001b[0m         tr,te \u001b[39m=\u001b[39m cross_validation(y, x, k_indices,k, initial_w,lambda_, degree ,gamma, max_iters)\n\u001b[1;32m    104\u001b[0m         rmse_tr_k\u001b[39m.\u001b[39mappend(tr)\n\u001b[1;32m    105\u001b[0m         rmse_te_k\u001b[39m.\u001b[39mappend(te)\n",
      "File \u001b[0;32m~/Desktop/ML_project1-master-2/hyperparams.py:66\u001b[0m, in \u001b[0;36mcross_validation\u001b[0;34m(y, x, k_indices, k, initial_w, lambda_, degree, gamma, max_iters)\u001b[0m\n\u001b[1;32m     62\u001b[0m x_te \u001b[39m=\u001b[39m x[te_indice]\n\u001b[1;32m     63\u001b[0m x_tr \u001b[39m=\u001b[39m x[tr_indice]\n\u001b[0;32m---> 66\u001b[0m w, loss_tr \u001b[39m=\u001b[39m reg_logistic_regression(y_tr, x_tr, lambda_, initial_w, max_iters, gamma)\n\u001b[1;32m     68\u001b[0m loss_te \u001b[39m=\u001b[39m  calculate_logistic_loss(y_te, x_te, w)\n\u001b[1;32m     70\u001b[0m \u001b[39mreturn\u001b[39;00m loss_tr, loss_te\n",
      "File \u001b[0;32m~/Desktop/ML_project1-master-2/implementations.py:136\u001b[0m, in \u001b[0;36mreg_logistic_regression\u001b[0;34m(y, tx, lambda_, initial_w, max_iters, gamma)\u001b[0m\n\u001b[1;32m    134\u001b[0m w \u001b[39m=\u001b[39m initial_w\n\u001b[1;32m    135\u001b[0m \u001b[39mfor\u001b[39;00m n_iter \u001b[39min\u001b[39;00m \u001b[39mrange\u001b[39m(max_iters):\n\u001b[0;32m--> 136\u001b[0m     penalized_gradient \u001b[39m=\u001b[39m calculate_logistic_gradient(y,tx,w)\u001b[39m+\u001b[39m \u001b[39m2\u001b[39m \u001b[39m*\u001b[39m lambda_ \u001b[39m*\u001b[39m w\n\u001b[1;32m    137\u001b[0m     w \u001b[39m-\u001b[39m\u001b[39m=\u001b[39m gamma \u001b[39m*\u001b[39m penalized_gradient\n\u001b[1;32m    138\u001b[0m loss \u001b[39m=\u001b[39m calculate_logistic_loss(y,tx,w) \n",
      "File \u001b[0;32m~/Desktop/ML_project1-master-2/implementations.py:262\u001b[0m, in \u001b[0;36mcalculate_logistic_gradient\u001b[0;34m(y, tx, w)\u001b[0m\n\u001b[1;32m    251\u001b[0m \u001b[39mdef\u001b[39;00m \u001b[39mcalculate_logistic_gradient\u001b[39m(y, tx, w):\n\u001b[1;32m    252\u001b[0m     \u001b[39m\"\"\"compute the gradient of loss.\u001b[39;00m\n\u001b[1;32m    253\u001b[0m \u001b[39m    \u001b[39;00m\n\u001b[1;32m    254\u001b[0m \u001b[39m    Args:\u001b[39;00m\n\u001b[0;32m   (...)\u001b[0m\n\u001b[1;32m    260\u001b[0m \u001b[39m        a vector of shape (D, 1)\u001b[39;00m\n\u001b[1;32m    261\u001b[0m \u001b[39m    \"\"\"\u001b[39;00m\n\u001b[0;32m--> 262\u001b[0m     \u001b[39mreturn\u001b[39;00m (\u001b[39m1\u001b[39;49m\u001b[39m/\u001b[39;49m\u001b[39mlen\u001b[39;49m(y))\u001b[39m*\u001b[39;49mtx\u001b[39m.\u001b[39;49mT\u001b[39m@\u001b[39;49m(sigmoid(tx\u001b[39m@w\u001b[39;49m)\u001b[39m-\u001b[39;49my)\n",
      "\u001b[0;31mKeyboardInterrupt\u001b[0m: "
     ]
    },
    {
     "data": {
      "image/png": "[encoded data removed]",
      "text/plain": [
       "<Figure size 640x480 with 1 Axes>"
      ]
     },
     "metadata": {},
     "output_type": "display_data"
    }
   ],
   "source": [
    "number_of_elements = 1000\n",
    "\n",
    "for i in range(number_of_elements):\n",
    "    if i % 100 == 0:\n",
    "        print(i)\n",
    "    best_lambda, best_rmse = cross_validation_demo(y_reduced, tx_reduced, 7, 4, initial_w,  np.logspace(-4, 0, 30), 3 ,gamma, max_iters)\n",
    "    print(best_rmse)#Here should be the code that does the computation.\n",
    "\n",
    "print('Done')"
   ]
  },
  {
   "cell_type": "code",
   "execution_count": 8,
   "id": "cb71baa3",
   "metadata": {},
   "outputs": [
    {
     "name": "stderr",
     "output_type": "stream",
     "text": [
      "/Users/toye/Desktop/ML_project1-master-2/implementations.py:229: RuntimeWarning: overflow encountered in exp\n",
      "  return 1/(1+np.exp(-t))\n",
      "/Users/toye/Desktop/ML_project1-master-2/implementations.py:246: RuntimeWarning: divide by zero encountered in log\n",
      "  loss = -(1/len(y)) * ( y.T @ np.log(sigmoid(tx@w)) + (1-y).T @ np.log(1-sigmoid(tx@w)) )\n",
      "/Users/toye/Desktop/ML_project1-master-2/implementations.py:246: RuntimeWarning: invalid value encountered in matmul\n",
      "  loss = -(1/len(y)) * ( y.T @ np.log(sigmoid(tx@w)) + (1-y).T @ np.log(1-sigmoid(tx@w)) )\n"
     ]
    },
    {
     "name": "stdout",
     "output_type": "stream",
     "text": [
      "131200\n"
     ]
    }
   ],
   "source": [
    "# Construct the matrix with the polynomial expansion for each column\n",
    "size_x_tr = x_tr.shape[0]\n",
    "gamma = 0.4 #Quite low to avoid NaN\n",
    "lambdas = np.logspace(-2, -1.8, 20) #the lambda tested for the logistic regression, for each lambda we test each degree\n",
    "initial_w = np.ones([size_x_tr,1])\n",
    "max_iters = 20\n",
    "degrees_tested = [1,2,3,5,6,8] #the degrees tested for the polynoms\n",
    "phi, degrees_poly =phi_optimized(y_tr,x_tr,degrees_tested,P, 4, initial_w, lambdas, gamma,max_iters)\n",
    "\n",
    "print(phi.size)"
   ]
  },
  {
   "cell_type": "code",
   "execution_count": 14,
   "id": "28fe6340",
   "metadata": {},
   "outputs": [
    {
     "name": "stdout",
     "output_type": "stream",
     "text": [
      "(800, 164)\n"
     ]
    }
   ],
   "source": [
    "print(phi.shape)"
   ]
  },
  {
   "cell_type": "code",
   "execution_count": null,
   "id": "6877ba7d",
   "metadata": {},
   "outputs": [
    {
     "name": "stdout",
     "output_type": "stream",
     "text": [
      "[[ 1.00000000e+00  2.79461775e-01  7.80988834e-02 ... -1.88929641e-01\n",
      "   1.08409364e-01 -6.22061750e-02]\n",
      " [ 1.00000000e+00  2.35253288e-01  5.53441097e-02 ... -5.25419251e-02\n",
      "   1.96792243e-02 -7.37072094e-03]\n",
      " [ 1.00000000e+00  1.07930230e-01  1.16489346e-02 ... -6.69295427e-01\n",
      "   5.85450899e-01 -5.12109812e-01]\n",
      " ...\n",
      " [ 1.00000000e+00  3.37122645e-01  1.13651678e-01 ... -1.12013161e+00\n",
      "   1.16330092e+00 -1.20813396e+00]\n",
      " [ 1.00000000e+00  1.28808884e-01  1.65917287e-02 ...  1.17633427e-03\n",
      "   1.24176953e-04  1.31084472e-05]\n",
      " [ 1.00000000e+00  1.96725426e-01  3.87008931e-02 ... -1.11038501e+00\n",
      "   1.14982422e+00 -1.19066425e+00]]\n"
     ]
    }
   ],
   "source": [
    "print(phi)"
   ]
  },
  {
   "cell_type": "code",
   "execution_count": 9,
   "id": "ff6c4a72",
   "metadata": {},
   "outputs": [
    {
     "name": "stdout",
     "output_type": "stream",
     "text": [
      "For polynomial expansion up to degree 3, the choice of lambda which leads to the best test rmse is 0.00010 with a test rmse of nan\n"
     ]
    },
    {
     "data": {
      "image/png": "[encoded data removed]",
      "text/plain": [
       "<Figure size 640x480 with 1 Axes>"
      ]
     },
     "metadata": {},
     "output_type": "display_data"
    }
   ],
   "source": [
    "#Here : problems NaN with cross_validation... Possible solutions : réduire le pas gamma ? ajouter un tout petit epsilon pour eviter la division par 0, verifier qu'on introduit pas un NaN avec la data\n",
    "\n",
    "new_size = np.sum(degrees_poly)  +1  #size of the new input data \n",
    "initial_w = np.ones([new_size,1]) \n",
    "best_lambda, best_rmse = cross_validation_demo(y_tr, phi, 7, 4,initial_w,  np.logspace(-4, 0, 30), 3 ,gamma, max_iters ) #test for the best lambda, in the matrix expanded\n"
   ]
  },
  {
   "cell_type": "code",
   "execution_count": 10,
   "id": "b3055263",
   "metadata": {},
   "outputs": [
    {
     "name": "stdout",
     "output_type": "stream",
     "text": [
      "[[-4.98140348e-02]\n",
      " [-4.98140348e-02]\n",
      " [-4.98140348e-02]\n",
      " [-4.98140348e-02]\n",
      " [-4.98140348e-02]\n",
      " [-4.98140348e-02]\n",
      " [-4.98140348e-02]\n",
      " [-5.23337297e-02]\n",
      " [-1.04393606e-01]\n",
      " [-1.15848377e-02]\n",
      " [-6.42027875e-01]\n",
      " [ 1.07831959e+00]\n",
      " [-3.25051763e-01]\n",
      " [-5.45188702e-01]\n",
      " [-1.55004698e+00]\n",
      " [-2.88812258e+00]\n",
      " [ 5.81835783e+00]\n",
      " [-1.07931859e-01]\n",
      " [-5.01588084e-01]\n",
      " [-1.23320295e+00]\n",
      " [-2.30980869e+00]\n",
      " [ 2.89429063e+00]\n",
      " [-5.33466173e-02]\n",
      " [-9.78246315e-02]\n",
      " [-3.42442371e-01]\n",
      " [-3.58539543e-01]\n",
      " [ 6.51435499e-01]\n",
      " [-2.85636875e-02]\n",
      " [ 2.50693975e-02]\n",
      " [-1.27740879e-02]\n",
      " [ 6.34489734e-02]\n",
      " [ 2.01623270e-01]\n",
      " [-3.32908804e-02]\n",
      " [-5.83919591e-03]\n",
      " [ 2.41464336e-01]\n",
      " [ 3.71372327e-02]\n",
      " [ 1.86328096e-02]\n",
      " [ 5.20052701e-02]\n",
      " [ 5.20046452e-01]\n",
      " [-5.84380834e-02]\n",
      " [ 3.83481891e-03]\n",
      " [-1.66635789e-01]\n",
      " [-2.20139472e-01]\n",
      " [-6.55516843e-01]\n",
      " [-1.66137793e+00]\n",
      " [ 9.18293298e-02]\n",
      " [ 2.59129306e-01]\n",
      " [ 1.18500954e+00]\n",
      " [-1.34190229e-02]\n",
      " [-1.30847939e-02]\n",
      " [-5.46454504e-02]\n",
      " [-4.16048523e-01]\n",
      " [-3.22467233e+00]\n",
      " [ 2.23135538e-02]\n",
      " [ 2.08060979e-02]\n",
      " [ 2.36704296e-01]\n",
      " [ 8.75080538e-01]\n",
      " [ 1.92882425e+00]\n",
      " [ 6.68131918e-02]\n",
      " [-6.86544085e-02]\n",
      " [ 4.40005898e-02]\n",
      " [-3.36505359e-02]\n",
      " [-4.41664765e-02]\n",
      " [ 1.91119736e-01]\n",
      " [-4.84537667e-02]\n",
      " [-7.08318102e-02]\n",
      " [-4.29990624e-03]\n",
      " [ 2.36781502e-02]\n",
      " [ 6.24423683e-02]\n",
      " [-9.96948635e-02]\n",
      " [-4.68271039e-02]\n",
      " [-1.38795695e-01]\n",
      " [-8.36510764e-02]\n",
      " [-1.17857629e-01]\n",
      " [ 4.17713041e-02]\n",
      " [ 1.31355333e-02]\n",
      " [-3.19518799e-02]\n",
      " [-1.65915392e-02]\n",
      " [-6.40847023e-02]\n",
      " [-6.47911059e-02]\n",
      " [-1.03876791e-01]\n",
      " [-1.91280150e-01]\n",
      " [-1.07951394e-01]\n",
      " [ 3.71478843e-02]\n",
      " [ 1.70686785e-01]\n",
      " [ 3.05914128e-01]\n",
      " [-4.41249325e-01]\n",
      " [-1.42327363e+01]\n",
      " [-9.67665615e-03]\n",
      " [ 2.77773574e-02]\n",
      " [ 9.93487112e-02]\n",
      " [ 7.50890357e-02]\n",
      " [ 4.72191003e-01]\n",
      " [ 7.95235238e-02]\n",
      " [-3.41146962e-02]\n",
      " [-7.75295653e-02]\n",
      " [-1.86271998e-02]\n",
      " [-9.18178943e-02]\n",
      " [-3.65668261e-02]\n",
      " [-9.07167500e-02]\n",
      " [-1.31402794e-01]\n",
      " [-3.70238425e-03]\n",
      " [-2.10315884e-01]\n",
      " [-1.72546911e-01]\n",
      " [-3.54905425e-01]\n",
      " [-9.05686625e-03]\n",
      " [-1.30503109e-01]\n",
      " [-3.39673437e-02]\n",
      " [-1.76975501e-01]\n",
      " [-5.01160816e-02]\n",
      " [-1.70663280e-01]\n",
      " [-3.44825718e-02]\n",
      " [ 7.50407487e-02]\n",
      " [ 3.19835272e-02]\n",
      " [-1.23819317e-01]\n",
      " [ 1.00181270e-01]\n",
      " [-2.79833126e-02]\n",
      " [ 6.97219059e-01]\n",
      " [ 2.44245939e-02]\n",
      " [-2.91907156e-02]\n",
      " [-2.23080842e-04]\n",
      " [-2.93790777e-02]\n",
      " [-2.50298023e-02]\n",
      " [-5.05134148e-02]\n",
      " [-6.76816590e-02]\n",
      " [-1.07661569e-01]\n",
      " [-8.34699892e-02]\n",
      " [-2.61571793e-01]\n",
      " [-6.24503829e-01]\n",
      " [-1.04857211e+00]\n",
      " [ 1.11926920e+00]\n",
      " [ 5.73160911e-02]\n",
      " [ 6.46745259e-03]\n",
      " [ 1.16230478e-01]\n",
      " [ 1.03223841e-01]\n",
      " [ 1.35483939e-01]\n",
      " [ 2.55323615e-01]\n",
      " [-2.85200348e-01]\n",
      " [-7.18615503e-02]\n",
      " [ 3.19456283e-02]\n",
      " [-3.80222529e-02]\n",
      " [ 1.51156396e-02]\n",
      " [-6.19510340e-02]\n",
      " [ 4.50319462e-03]\n",
      " [-6.22176813e-02]\n",
      " [-4.74172618e-02]\n",
      " [ 1.06985222e-01]\n",
      " [-3.62609395e-02]\n",
      " [ 1.01146615e-01]\n",
      " [ 1.47226572e+00]\n",
      " [-2.20130397e-02]\n",
      " [-2.96825969e-02]\n",
      " [-2.43991452e-02]\n",
      " [ 1.03507117e-02]\n",
      " [ 1.52932506e-01]\n",
      " [-8.19318839e-02]\n",
      " [ 2.06075419e-02]\n",
      " [-3.88969226e-02]\n",
      " [ 3.18446868e-02]\n",
      " [-3.42155221e-02]\n",
      " [-7.08001094e-03]\n",
      " [ 7.70260816e-03]\n",
      " [-1.52028497e-01]\n",
      " [ 2.43921270e-01]]\n"
     ]
    }
   ],
   "source": [
    "#Calculate the weights for the best lambda, with the train data\n",
    "gamma = 0.2\n",
    "w_opt,loss = reg_logistic_regression(y_tr, phi, best_lambda, initial_w, max_iters, gamma)\n",
    "\n",
    "print (w_opt)"
   ]
  },
  {
   "cell_type": "code",
   "execution_count": 21,
   "id": "833141bd",
   "metadata": {},
   "outputs": [
    {
     "name": "stdout",
     "output_type": "stream",
     "text": [
      "(30,)\n",
      "[[-4.98140348e-02]\n",
      " [-4.98140348e-02]\n",
      " [-4.98140348e-02]\n",
      " [-4.98140348e-02]\n",
      " [-4.98140348e-02]\n",
      " [-4.98140348e-02]\n",
      " [-4.98140348e-02]\n",
      " [-5.23337297e-02]\n",
      " [-1.04393606e-01]\n",
      " [-1.15848377e-02]\n",
      " [-6.42027875e-01]\n",
      " [ 1.07831959e+00]\n",
      " [-3.25051763e-01]\n",
      " [-5.45188702e-01]\n",
      " [-1.55004698e+00]\n",
      " [-2.88812258e+00]\n",
      " [ 5.81835783e+00]\n",
      " [-1.07931859e-01]\n",
      " [-5.01588084e-01]\n",
      " [-1.23320295e+00]\n",
      " [-2.30980869e+00]\n",
      " [ 2.89429063e+00]\n",
      " [-5.33466173e-02]\n",
      " [-9.78246315e-02]\n",
      " [-3.42442371e-01]\n",
      " [-3.58539543e-01]\n",
      " [ 6.51435499e-01]\n",
      " [-2.85636875e-02]\n",
      " [ 2.50693975e-02]\n",
      " [-1.27740879e-02]\n",
      " [ 6.34489734e-02]\n",
      " [ 2.01623270e-01]\n",
      " [-3.32908804e-02]\n",
      " [-5.83919591e-03]\n",
      " [ 2.41464336e-01]\n",
      " [ 3.71372327e-02]\n",
      " [ 1.86328096e-02]\n",
      " [ 5.20052701e-02]\n",
      " [ 5.20046452e-01]\n",
      " [-5.84380834e-02]\n",
      " [ 3.83481891e-03]\n",
      " [-1.66635789e-01]\n",
      " [-2.20139472e-01]\n",
      " [-6.55516843e-01]\n",
      " [-1.66137793e+00]\n",
      " [ 9.18293298e-02]\n",
      " [ 2.59129306e-01]\n",
      " [ 1.18500954e+00]\n",
      " [-1.34190229e-02]\n",
      " [-1.30847939e-02]\n",
      " [-5.46454504e-02]\n",
      " [-4.16048523e-01]\n",
      " [-3.22467233e+00]\n",
      " [ 2.23135538e-02]\n",
      " [ 2.08060979e-02]\n",
      " [ 2.36704296e-01]\n",
      " [ 8.75080538e-01]\n",
      " [ 1.92882425e+00]\n",
      " [ 6.68131918e-02]\n",
      " [-6.86544085e-02]\n",
      " [ 4.40005898e-02]\n",
      " [-3.36505359e-02]\n",
      " [-4.41664765e-02]\n",
      " [ 1.91119736e-01]\n",
      " [-4.84537667e-02]\n",
      " [-7.08318102e-02]\n",
      " [-4.29990624e-03]\n",
      " [ 2.36781502e-02]\n",
      " [ 6.24423683e-02]\n",
      " [-9.96948635e-02]\n",
      " [-4.68271039e-02]\n",
      " [-1.38795695e-01]\n",
      " [-8.36510764e-02]\n",
      " [-1.17857629e-01]\n",
      " [ 4.17713041e-02]\n",
      " [ 1.31355333e-02]\n",
      " [-3.19518799e-02]\n",
      " [-1.65915392e-02]\n",
      " [-6.40847023e-02]\n",
      " [-6.47911059e-02]\n",
      " [-1.03876791e-01]\n",
      " [-1.91280150e-01]\n",
      " [-1.07951394e-01]\n",
      " [ 3.71478843e-02]\n",
      " [ 1.70686785e-01]\n",
      " [ 3.05914128e-01]\n",
      " [-4.41249325e-01]\n",
      " [-1.42327363e+01]\n",
      " [-9.67665615e-03]\n",
      " [ 2.77773574e-02]\n",
      " [ 9.93487112e-02]\n",
      " [ 7.50890357e-02]\n",
      " [ 4.72191003e-01]\n",
      " [ 7.95235238e-02]\n",
      " [-3.41146962e-02]\n",
      " [-7.75295653e-02]\n",
      " [-1.86271998e-02]\n",
      " [-9.18178943e-02]\n",
      " [-3.65668261e-02]\n",
      " [-9.07167500e-02]\n",
      " [-1.31402794e-01]\n",
      " [-3.70238425e-03]\n",
      " [-2.10315884e-01]\n",
      " [-1.72546911e-01]\n",
      " [-3.54905425e-01]\n",
      " [-9.05686625e-03]\n",
      " [-1.30503109e-01]\n",
      " [-3.39673437e-02]\n",
      " [-1.76975501e-01]\n",
      " [-5.01160816e-02]\n",
      " [-1.70663280e-01]\n",
      " [-3.44825718e-02]\n",
      " [ 7.50407487e-02]\n",
      " [ 3.19835272e-02]\n",
      " [-1.23819317e-01]\n",
      " [ 1.00181270e-01]\n",
      " [-2.79833126e-02]\n",
      " [ 6.97219059e-01]\n",
      " [ 2.44245939e-02]\n",
      " [-2.91907156e-02]\n",
      " [-2.23080842e-04]\n",
      " [-2.93790777e-02]\n",
      " [-2.50298023e-02]\n",
      " [-5.05134148e-02]\n",
      " [-6.76816590e-02]\n",
      " [-1.07661569e-01]\n",
      " [-8.34699892e-02]\n",
      " [-2.61571793e-01]\n",
      " [-6.24503829e-01]\n",
      " [-1.04857211e+00]\n",
      " [ 1.11926920e+00]\n",
      " [ 5.73160911e-02]\n",
      " [ 6.46745259e-03]\n",
      " [ 1.16230478e-01]\n",
      " [ 1.03223841e-01]\n",
      " [ 1.35483939e-01]\n",
      " [ 2.55323615e-01]\n",
      " [-2.85200348e-01]\n",
      " [-7.18615503e-02]\n",
      " [ 3.19456283e-02]\n",
      " [-3.80222529e-02]\n",
      " [ 1.51156396e-02]\n",
      " [-6.19510340e-02]\n",
      " [ 4.50319462e-03]\n",
      " [-6.22176813e-02]\n",
      " [-4.74172618e-02]\n",
      " [ 1.06985222e-01]\n",
      " [-3.62609395e-02]\n",
      " [ 1.01146615e-01]\n",
      " [ 1.47226572e+00]\n",
      " [-2.20130397e-02]\n",
      " [-2.96825969e-02]\n",
      " [-2.43991452e-02]\n",
      " [ 1.03507117e-02]\n",
      " [ 1.52932506e-01]\n",
      " [-8.19318839e-02]\n",
      " [ 2.06075419e-02]\n",
      " [-3.88969226e-02]\n",
      " [ 3.18446868e-02]\n",
      " [-3.42155221e-02]\n",
      " [-7.08001094e-03]\n",
      " [ 7.70260816e-03]\n",
      " [-1.52028497e-01]\n",
      " [ 2.43921270e-01]]\n"
     ]
    }
   ],
   "source": [
    "degrees_poly = np.array(degrees_poly)\n",
    "print(degrees_poly.shape)\n",
    "print (w_opt)\n",
    "\n",
    "phi_te = np.ones([x_te.shape[0],1]) \n",
    "for column in range (1,x_te.shape[1]) :  #shape -1 car degree ne prend pas en compte la colonne de uns\n",
    "    new_cols = build_poly(x_te[:,column], degrees_poly[column-1])\n",
    "    phi_te = np.c_[phi_te,new_cols]"
   ]
  },
  {
   "cell_type": "code",
   "execution_count": 22,
   "id": "bb1bb0b2",
   "metadata": {},
   "outputs": [
    {
     "name": "stdout",
     "output_type": "stream",
     "text": [
      "(200, 164)\n",
      "(800, 164)\n",
      "[6 5 5 5 5 5 3 5 5 3 5 5 6 2 3 6 8 5 6 8 3 8 5 8 5 8 8 3 6 8]\n",
      "[[ 1.00000000e+00  4.84149683e-01  2.34400916e-01 ...  1.63827524e+02\n",
      "   3.83222806e+02  8.96428848e+02]\n",
      " [ 1.00000000e+00  8.66842632e-02  7.51416149e-03 ...  3.60972553e-09\n",
      "  -1.41379534e-10  5.53731090e-12]\n",
      " [ 1.00000000e+00  2.15760241e-01  4.65524816e-02 ...  1.86525941e-09\n",
      "   6.54428864e-11  2.29607279e-12]\n",
      " ...\n",
      " [ 1.00000000e+00  3.65369380e-01  1.33494784e-01 ...  8.09261464e-02\n",
      "  -5.32235294e-02  3.50040649e-02]\n",
      " [ 1.00000000e+00  1.71431742e-01  2.93888421e-02 ...  1.04956419e-05\n",
      "   1.55302044e-06  2.29797521e-07]\n",
      " [ 1.00000000e+00  1.98714735e-01  3.94875458e-02 ...  1.39041254e+00\n",
      "  -1.46892951e+00  1.55188035e+00]]\n"
     ]
    }
   ],
   "source": [
    "print(phi_te.shape)\n",
    "print(phi.shape)\n",
    "print(degrees_poly)\n"
   ]
  },
  {
   "cell_type": "code",
   "execution_count": 23,
   "id": "ab22fe44",
   "metadata": {},
   "outputs": [],
   "source": [
    "def get_accuracy(y_predictions, y_te):\n",
    "    \"\"\"Checks whether prediction are accurate by compraing with y_te\n",
    "    \n",
    "    Args: \n",
    "        predictions:\n",
    "        y_te:\n",
    "    \n",
    "    Returns:\n",
    "        len(good_guess):\n",
    "        len(bad_guess):\n",
    "    \"\"\" \n",
    "    \n",
    "    difference = (y_predictions-y_te)\n",
    "    good_guess = difference[difference==0]\n",
    "    bad_guess = difference[difference!=0]\n",
    "    print(len(good_guess),len(bad_guess))\n",
    "    \n",
    "    return len(good_guess), len(bad_guess)"
   ]
  },
  {
   "cell_type": "code",
   "execution_count": 25,
   "id": "b297dfa0",
   "metadata": {},
   "outputs": [
    {
     "name": "stdout",
     "output_type": "stream",
     "text": [
      "98 102\n",
      "0.49\n"
     ]
    },
    {
     "name": "stderr",
     "output_type": "stream",
     "text": [
      "/Users/toye/Desktop/ML_project1-master-2/implementations.py:229: RuntimeWarning: overflow encountered in exp\n",
      "  return 1/(1+np.exp(-t))\n"
     ]
    }
   ],
   "source": [
    "\n",
    "temporary = sigmoid(phi_te@w_opt)\n",
    "y_result = temporary\n",
    "y_result[y_result>0.5] = 1\n",
    "y_result[y_result<0.5] = 0\n",
    "right, wrong = get_accuracy(y_result, y_te)\n",
    "print(right/(right+wrong))\n",
    "\n"
   ]
  }
 ],
 "metadata": {
  "kernelspec": {
   "display_name": "Python 3.9.13 ('base')",
   "language": "python",
   "name": "python3"
  },
  "language_info": {
   "codemirror_mode": {
    "name": "ipython",
    "version": 3
   },
   "file_extension": ".py",
   "mimetype": "text/x-python",
   "name": "python",
   "nbconvert_exporter": "python",
   "pygments_lexer": "ipython3",
   "version": "3.9.13"
  },
  "vscode": {
   "interpreter": {
    "hash": "3d597f4c481aa0f25dceb95d2a0067e73c0966dcbd003d741d821a7208527ecf"
   }
  }
 },
 "nbformat": 4,
 "nbformat_minor": 5
}
