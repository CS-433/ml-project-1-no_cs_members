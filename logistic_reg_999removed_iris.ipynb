{
 "cells": [
  {
   "cell_type": "code",
   "execution_count": 15,
   "metadata": {},
   "outputs": [],
   "source": [
    "import numpy as np\n",
    "from helpers import *\n",
    "from implementations_iris import *"
   ]
  },
  {
   "cell_type": "code",
   "execution_count": 16,
   "metadata": {},
   "outputs": [],
   "source": [
    "# loading train data (takes 10 secs, avoid spamming cell)\n",
    "\n",
    "yb, input_data, ids = load_csv_data(\"train.csv\")\n",
    "dimensions = np.shape(input_data)\n",
    "N = dimensions[0]\n",
    "P = dimensions[1]\n",
    "yb = np.reshape(yb,[N,1])"
   ]
  },
  {
   "cell_type": "code",
   "execution_count": 17,
   "metadata": {},
   "outputs": [],
   "source": [
    "# standardize data without the incomplete points, calculations done on _rem arrays (with -999 lines removed)\n",
    "idx_incomplete_points = np.nonzero(input_data[:,4]==-999)\n",
    "\n",
    "tx_rem = np.delete(input_data,idx_incomplete_points,0)\n",
    "y_rem = np.delete(yb,idx_incomplete_points)\n",
    "\n",
    "means = np.mean(tx_rem, axis=0)\n",
    "means = means * np.ones(np.shape(tx_rem))\n",
    "tx_rem_std = tx_rem - means\n",
    "\n",
    "std_dev = np.std(tx_rem, axis=0)\n",
    "std_dev = std_dev * np.ones(np.shape(tx_rem))\n",
    "tx_rem_std = tx_rem_std / std_dev       # np.mean(tx_rem_std) should be ~0, np.std(tx_rem_std) should be 1\n"
   ]
  },
  {
   "cell_type": "code",
   "execution_count": 18,
   "metadata": {},
   "outputs": [
    {
     "data": {
      "text/plain": [
       "9.680507705906368e-17"
      ]
     },
     "execution_count": 18,
     "metadata": {},
     "output_type": "execute_result"
    }
   ],
   "source": [
    "np.shape(tx_rem_std)\n",
    "np.mean(tx_rem_std)"
   ]
  },
  {
   "cell_type": "code",
   "execution_count": 19,
   "metadata": {},
   "outputs": [],
   "source": [
    "tx_test = tx_rem_std[range(10000),:]  # 100x30 data for faster testing of regression\n",
    "y_test = yb[0:10000]\n",
    "# generate random indices\n",
    "ratio = 0.8\n",
    "num_row = len(y_test)\n",
    "indices = np.random.permutation(num_row)\n",
    "index_split = int(np.floor(ratio * num_row))\n",
    "index_tr = indices[: index_split]\n",
    "index_te = indices[index_split:]\n",
    "# create split\n",
    "x_tr = tx_test[index_tr]\n",
    "x_te = tx_test[index_te]\n",
    "y_tr = y_test[index_tr]\n",
    "y_te = y_test[index_te]\n"
   ]
  },
  {
   "cell_type": "code",
   "execution_count": null,
   "metadata": {},
   "outputs": [
    {
     "ename": "",
     "evalue": "",
     "output_type": "error",
     "traceback": [
      "\u001b[1;31mCanceled future for execute_request message before replies were done"
     ]
    },
    {
     "ename": "",
     "evalue": "",
     "output_type": "error",
     "traceback": [
      "\u001b[1;31mThe Kernel crashed while executing code in the the current cell or a previous cell. Please review the code in the cell(s) to identify a possible cause of the failure. Click <a href='https://aka.ms/vscodeJupyterKernelCrash'>here</a> for more info. View Jupyter <a href='command:jupyter.viewOutput'>log</a> for further details."
     ]
    }
   ],
   "source": [
    "initial_w = np.ones([P,1])\n",
    "max_iters = 70\n",
    "gamma = 0.7\n",
    "w_opt,loss = logistic_regression(y_rem,tx_rem_std,initial_w,max_iters,gamma)"
   ]
  },
  {
   "cell_type": "code",
   "execution_count": 21,
   "metadata": {},
   "outputs": [
    {
     "data": {
      "text/plain": [
       "8000"
      ]
     },
     "execution_count": 21,
     "metadata": {},
     "output_type": "execute_result"
    }
   ],
   "source": [
    "len(y_tr)"
   ]
  },
  {
   "cell_type": "code",
   "execution_count": 22,
   "metadata": {},
   "outputs": [
    {
     "data": {
      "text/plain": [
       "(30, 1)"
      ]
     },
     "execution_count": 22,
     "metadata": {},
     "output_type": "execute_result"
    }
   ],
   "source": [
    "np.shape(w_opt)"
   ]
  },
  {
   "cell_type": "code",
   "execution_count": 23,
   "metadata": {},
   "outputs": [
    {
     "data": {
      "text/plain": [
       "0.6882589790158209"
      ]
     },
     "execution_count": 23,
     "metadata": {},
     "output_type": "execute_result"
    }
   ],
   "source": [
    "loss"
   ]
  },
  {
   "cell_type": "code",
   "execution_count": 24,
   "metadata": {},
   "outputs": [
    {
     "name": "stdout",
     "output_type": "stream",
     "text": [
      "0.6882589790158209\n",
      "8000\n"
     ]
    },
    {
     "data": {
      "text/plain": [
       "0.5259905071325718"
      ]
     },
     "execution_count": 24,
     "metadata": {},
     "output_type": "execute_result"
    }
   ],
   "source": [
    "#print(w_opt)\n",
    "print(loss)\n",
    "print (len(y_tr))\n",
    "compute_mse_loss(y_tr,x_tr,w_opt)"
   ]
  },
  {
   "cell_type": "code",
   "execution_count": 25,
   "metadata": {},
   "outputs": [
    {
     "data": {
      "text/plain": [
       "array([[ 0.07915801],\n",
       "       [ 0.00738341],\n",
       "       [-0.12983779],\n",
       "       [-0.10441223],\n",
       "       [-0.00612681],\n",
       "       [ 0.10747634],\n",
       "       [ 0.1452544 ],\n",
       "       [ 0.19039619],\n",
       "       [ 0.06312116],\n",
       "       [-0.18192023],\n",
       "       [ 0.2370984 ],\n",
       "       [ 0.06172921],\n",
       "       [ 0.05490075],\n",
       "       [ 0.32988884],\n",
       "       [-0.01604013],\n",
       "       [ 0.05539099],\n",
       "       [-0.11563983],\n",
       "       [-0.0040231 ],\n",
       "       [ 0.01764916],\n",
       "       [ 0.06408614],\n",
       "       [ 0.011314  ],\n",
       "       [-0.03238812],\n",
       "       [ 0.00606319],\n",
       "       [-0.00391992],\n",
       "       [ 0.10925702],\n",
       "       [ 0.01250124],\n",
       "       [ 0.0961948 ],\n",
       "       [ 0.05460827],\n",
       "       [ 0.01777814],\n",
       "       [ 0.06423431]])"
      ]
     },
     "execution_count": 25,
     "metadata": {},
     "output_type": "execute_result"
    }
   ],
   "source": []
  },
  {
   "cell_type": "code",
   "execution_count": null,
   "metadata": {},
   "outputs": [],
   "source": []
  }
 ],
 "metadata": {
  "kernelspec": {
   "display_name": "Python 3.9.5 64-bit",
   "language": "python",
   "name": "python3"
  },
  "language_info": {
   "codemirror_mode": {
    "name": "ipython",
    "version": 3
   },
   "file_extension": ".py",
   "mimetype": "text/x-python",
   "name": "python",
   "nbconvert_exporter": "python",
   "pygments_lexer": "ipython3",
   "version": "3.9.5"
  },
  "orig_nbformat": 4,
  "vscode": {
   "interpreter": {
    "hash": "aee8b7b246df8f9039afb4144a1f6fd8d2ca17a180786b69acc140d282b71a49"
   }
  }
 },
 "nbformat": 4,
 "nbformat_minor": 2
}
