{
 "cells": [
  {
   "cell_type": "code",
   "execution_count": 13,
   "metadata": {},
   "outputs": [
    {
     "name": "stdout",
     "output_type": "stream",
     "text": [
      "The autoreload extension is already loaded. To reload it, use:\n",
      "  %reload_ext autoreload\n"
     ]
    }
   ],
   "source": [
    "import numpy as np\n",
    "from helpers import *\n",
    "from implementations_iris import *\n",
    "from data_processing import *\n",
    "%load_ext autoreload\n",
    "%autoreload 2"
   ]
  },
  {
   "cell_type": "code",
   "execution_count": 2,
   "metadata": {},
   "outputs": [],
   "source": [
    "# loading train data (takes 10 secs, avoid spamming cell)\n",
    "\n",
    "yb, input_data, ids = load_csv_data(\"train.csv\")\n",
    "dimensions = np.shape(input_data)\n",
    "N = dimensions[0]\n",
    "P = dimensions[1]\n",
    "yb = np.reshape(yb,[N,1])\n",
    "\n",
    "tx = np.concatenate((input_data,np.ones([N,1])),axis=1)   # adding an implicit w0 element to model\n"
   ]
  },
  {
   "cell_type": "code",
   "execution_count": 20,
   "metadata": {},
   "outputs": [],
   "source": [
    "# standardize data without the incomplete points, calculations done on _rem arrays (with -999 lines removed)\n",
    "y_rem, tx_rem_std, mean, std_dev = standardize_data_999removed(yb,input_data)\n",
    "tx_means, means, std_dev = standardize_data_999mean(input_data)\n",
    "\n",
    "tx_means = add_w0(tx_means,N)"
   ]
  },
  {
   "cell_type": "code",
   "execution_count": 21,
   "metadata": {},
   "outputs": [],
   "source": [
    "tx_reduced = tx_rem_std[range(10000),:]  # 100x30 data for faster testing of regression\n",
    "y_reduced = yb[0:10000]\n",
    "ratio = 0.8\n",
    "\n",
    "y_tr, x_tr, y_te, x_te = split_data(y_reduced,tx_reduced,ratio)"
   ]
  },
  {
   "cell_type": "code",
   "execution_count": 22,
   "metadata": {},
   "outputs": [
    {
     "data": {
      "text/plain": [
       "(8000, 30)"
      ]
     },
     "execution_count": 22,
     "metadata": {},
     "output_type": "execute_result"
    }
   ],
   "source": [
    "np.shape(x_tr)"
   ]
  },
  {
   "cell_type": "code",
   "execution_count": 6,
   "metadata": {},
   "outputs": [
    {
     "ename": "ValueError",
     "evalue": "matmul: Input operand 1 has a mismatch in its core dimension 0, with gufunc signature (n?,k),(k,m?)->(n?,m?) (size 31 is different from 30)",
     "output_type": "error",
     "traceback": [
      "\u001b[0;31m---------------------------------------------------------------------------\u001b[0m",
      "\u001b[0;31mValueError\u001b[0m                                Traceback (most recent call last)",
      "\u001b[1;32m/Users/alexei.ermochkine/Desktop/ML_project1/logistic_reg_999removed_iris.ipynb Cell 5\u001b[0m in \u001b[0;36m<cell line: 4>\u001b[0;34m()\u001b[0m\n\u001b[1;32m      <a href='vscode-notebook-cell:/Users/alexei.ermochkine/Desktop/ML_project1/logistic_reg_999removed_iris.ipynb#W4sZmlsZQ%3D%3D?line=1'>2</a>\u001b[0m max_iters \u001b[39m=\u001b[39m \u001b[39m70\u001b[39m\n\u001b[1;32m      <a href='vscode-notebook-cell:/Users/alexei.ermochkine/Desktop/ML_project1/logistic_reg_999removed_iris.ipynb#W4sZmlsZQ%3D%3D?line=2'>3</a>\u001b[0m gamma \u001b[39m=\u001b[39m \u001b[39m0.7\u001b[39m\n\u001b[0;32m----> <a href='vscode-notebook-cell:/Users/alexei.ermochkine/Desktop/ML_project1/logistic_reg_999removed_iris.ipynb#W4sZmlsZQ%3D%3D?line=3'>4</a>\u001b[0m w_opt,loss \u001b[39m=\u001b[39m logistic_regression(y_rem,tx_rem_std,initial_w,max_iters,gamma)\n",
      "File \u001b[0;32m~/Desktop/ML_project1/implementations_iris.py:111\u001b[0m, in \u001b[0;36mlogistic_regression\u001b[0;34m(y, tx, initial_w, max_iters, gamma)\u001b[0m\n\u001b[1;32m    109\u001b[0m w \u001b[39m=\u001b[39m initial_w\n\u001b[1;32m    110\u001b[0m \u001b[39mfor\u001b[39;00m n_iter \u001b[39min\u001b[39;00m \u001b[39mrange\u001b[39m(max_iters):\n\u001b[0;32m--> 111\u001b[0m     w \u001b[39m=\u001b[39m w\u001b[39m-\u001b[39mgamma \u001b[39m*\u001b[39m calculate_logistic_gradient(y,tx,w)\n\u001b[1;32m    112\u001b[0m loss \u001b[39m=\u001b[39m calculate_logistic_loss(y,tx,w)\n\u001b[1;32m    113\u001b[0m \u001b[39mreturn\u001b[39;00m w, loss\n",
      "File \u001b[0;32m~/Desktop/ML_project1/implementations_iris.py:255\u001b[0m, in \u001b[0;36mcalculate_logistic_gradient\u001b[0;34m(y, tx, w)\u001b[0m\n\u001b[1;32m    244\u001b[0m \u001b[39mdef\u001b[39;00m \u001b[39mcalculate_logistic_gradient\u001b[39m(y, tx, w):\n\u001b[1;32m    245\u001b[0m     \u001b[39m\"\"\"compute the gradient of loss.\u001b[39;00m\n\u001b[1;32m    246\u001b[0m \u001b[39m    \u001b[39;00m\n\u001b[1;32m    247\u001b[0m \u001b[39m    Args:\u001b[39;00m\n\u001b[0;32m   (...)\u001b[0m\n\u001b[1;32m    253\u001b[0m \u001b[39m        a vector of shape (D, 1)\u001b[39;00m\n\u001b[1;32m    254\u001b[0m \u001b[39m    \"\"\"\u001b[39;00m\n\u001b[0;32m--> 255\u001b[0m     \u001b[39mreturn\u001b[39;00m (\u001b[39m1\u001b[39m\u001b[39m/\u001b[39m\u001b[39mlen\u001b[39m(y))\u001b[39m*\u001b[39mtx\u001b[39m.\u001b[39mT\u001b[39m@\u001b[39m(sigmoid(tx\u001b[39m@w\u001b[39;49m)\u001b[39m-\u001b[39my)\n",
      "\u001b[0;31mValueError\u001b[0m: matmul: Input operand 1 has a mismatch in its core dimension 0, with gufunc signature (n?,k),(k,m?)->(n?,m?) (size 31 is different from 30)"
     ]
    }
   ],
   "source": [
    "initial_w = np.ones([P+1,1])\n",
    "max_iters = 70\n",
    "gamma = 0.7\n",
    "w_opt,loss = logistic_regression(y_rem,tx_rem_std,initial_w,max_iters,gamma)"
   ]
  }
 ],
 "metadata": {
  "kernelspec": {
   "display_name": "Python 3.9.5 64-bit",
   "language": "python",
   "name": "python3"
  },
  "language_info": {
   "codemirror_mode": {
    "name": "ipython",
    "version": 3
   },
   "file_extension": ".py",
   "mimetype": "text/x-python",
   "name": "python",
   "nbconvert_exporter": "python",
   "pygments_lexer": "ipython3",
   "version": "3.9.5"
  },
  "orig_nbformat": 4,
  "vscode": {
   "interpreter": {
    "hash": "aee8b7b246df8f9039afb4144a1f6fd8d2ca17a180786b69acc140d282b71a49"
   }
  }
 },
 "nbformat": 4,
 "nbformat_minor": 2
}
